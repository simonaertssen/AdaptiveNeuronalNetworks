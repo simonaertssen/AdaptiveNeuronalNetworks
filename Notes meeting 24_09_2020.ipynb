{
 "cells": [
  {
   "cell_type": "code",
   "execution_count": 1,
   "metadata": {},
   "outputs": [],
   "source": [
    "import matplotlib.pyplot as plt\n",
    "import numpy as np"
   ]
  },
  {
   "cell_type": "markdown",
   "metadata": {},
   "source": [
    "# Chapter: ODE solvers for fast modelling:\n",
    "\n",
    "Sample neuron modelling problem over $t \\in [0, 10]$ with $h=0.005$.\n",
    "\n",
    "\\begin{align*}\n",
    "\\texttt{Cython} &: \\text{0.106 seconds (laptop)} \\\\\n",
    "\\texttt{Pytorch} &: \\text{8.171 seconds (laptop)}\\\\\n",
    "\\texttt{Matlab} &: \\text{8.205 seconds (laptop)}\\\\\n",
    "\\texttt{Matlab} &: \\text{8.532 seconds (GPU SXM2SH)}\\\\\n",
    "\\texttt{PyTorch} &: \\text{10.158 seconds (GPU SXM2SH)}\\\\\n",
    "\\texttt{NumPy} &: \\text{11.177 seconds (laptop)}\\\\\n",
    "\\texttt{Matlab} &: \\text{14.608 seconds (DTU)}\\\\\n",
    "\\end{align*}\n",
    "\n",
    "Laptop: 2015 MacBook Pro 2,9 GHz Intel Core i5 (\"laptop\")\n"
   ]
  },
  {
   "cell_type": "markdown",
   "metadata": {},
   "source": [
    "# Chapter: The theta neuron model\n",
    "The theta neuron model is defined as follows:\n",
    "\\begin{align*}\n",
    "\\dot{\\theta}&=(1-\\cos \\theta)+(1+\\cos \\theta) \\cdot \\iota \\hspace{10mm} \\theta \\in S^1 \\\\\n",
    "&=1-\\cos \\theta + \\iota + \\iota \\cos \\theta \\\\\n",
    "&=(\\iota + 1) + (\\iota - 1) \\cdot \\cos \\theta\\\\\n",
    "\\end{align*}\n",
    "\n",
    "For $\\iota > 0$, $\\dot{\\theta} > 0$ and $\\theta$ moves continuously around the unit circle. Equilibria only exist for $\\iota < 0$:\n",
    "\\begin{align*}\n",
    "\\iota + 1 &= (1 - \\iota) \\cdot \\cos \\theta\\\\\n",
    "\\theta^* &= \\pm\\arccos \\left( \\frac{\\iota + 1}{1-\\iota} \\right) + 2\\pi n\\\\\n",
    "\\end{align*}\n",
    "\n",
    "\n",
    "For some of the extreme values of $\\frac{\\iota + 1}{1-\\iota}$, we have that: \n",
    "\n",
    "\\begin{align*}\n",
    "\\lim_{\\iota \\rightarrow -1} \\theta^* &= \\pm \\arccos (0) + 2\\pi n = \\pm \\frac{\\pi}{2} + 2\\pi n \\\\\n",
    "\\end{align*}"
   ]
  },
  {
   "cell_type": "markdown",
   "metadata": {},
   "source": [
    "We can see the equilibrium points here, and below the saddle-node bifurcation\n",
    "\n",
    "![Testing the model equilibria](Figures/ThetaModelEquilibriumPoints.png)"
   ]
  },
  {
   "cell_type": "code",
   "execution_count": 2,
   "metadata": {},
   "outputs": [
    {
     "data": {
      "image/png": "[encoded data removed]",
      "text/plain": [
       "<Figure size 432x288 with 1 Axes>"
      ]
     },
     "metadata": {
      "needs_background": "light"
     },
     "output_type": "display_data"
    }
   ],
   "source": [
    "x = np.linspace(-3, 0, 500)\n",
    "y = np.arccos((x + 1)/(1 - x))\n",
    "plt.grid(True)\n",
    "plt.plot(x,y);\n",
    "plt.plot(x,-y, '--');\n",
    "plt.xlabel(r\"$\\iota$\")\n",
    "plt.ylabel(r\"$\\dot{\\theta}$\");"
   ]
  },
  {
   "cell_type": "markdown",
   "metadata": {},
   "source": [
    "Concerning the stability:\n",
    "\\begin{align*}\n",
    "\\frac{d}{d\\theta}\\left((1-\\cos \\theta)+(1+\\cos \\theta) \\cdot \\iota \\right) \n",
    "&= \\sin \\theta + \\sin \\theta \\cdot \\iota = (1 + \\iota)\\sin \\theta \n",
    "\\end{align*}\n",
    "\n",
    "For the equilibrium points that yields:\n",
    "\\begin{align*}\n",
    "(1 + \\iota)\\sin\\left(\\pm\\arccos \\left( \\frac{\\iota + 1}{1-\\iota} \\right) \\right) \n",
    "&= \\pm (1 + \\iota) \\cdot \\sqrt{1 - \\frac{\\iota + 1}{1-\\iota}}\n",
    "= \\pm (1 + \\iota) \\cdot \\frac{2\\sqrt{-\\iota}}{1-\\iota}\n",
    "\\end{align*}\n",
    "\n",
    "For a current $-1 < \\iota \\leq 0$ this gives:\n",
    "\\begin{align*}\n",
    "(1 + \\iota) > 0  \\hspace{5mm} \\frac{2\\sqrt{-\\iota}}{1-\\iota} > 0\n",
    "\\end{align*}\n",
    "\n",
    "So that we find an unstable fixpoint. For $\\iota \\leq -1$:\n",
    "\\begin{align*}\n",
    "(1 + \\iota) < 0  \\hspace{5mm} \\frac{2\\sqrt{-\\iota}}{1-\\iota} > 0\n",
    "\\end{align*}\n",
    "\n",
    "<font color=red>Question:</font> what does this mean?\n",
    "\n"
   ]
  },
  {
   "cell_type": "code",
   "execution_count": 3,
   "metadata": {},
   "outputs": [
    {
     "data": {
      "image/png": "[encoded data removed]",
      "text/plain": [
       "<Figure size 432x288 with 1 Axes>"
      ]
     },
     "metadata": {
      "needs_background": "light"
     },
     "output_type": "display_data"
    }
   ],
   "source": [
    "x = np.linspace(-3, 0, 500)\n",
    "y = (1 + x)*(2*np.sqrt(-x)/(1-x))\n",
    "plt.grid(True)\n",
    "plt.plot(x,y);\n",
    "plt.plot(x,-y, '--');\n",
    "plt.xlabel(r\"$\\iota$\")\n",
    "plt.ylabel(r\"$\\frac{d}{d\\theta}\\left(\\dot{\\theta}\\right)$\");"
   ]
  },
  {
   "cell_type": "markdown",
   "metadata": {},
   "source": [
    "## QIF\n",
    "The theta model is closely related to the QIF model:\n",
    "\\begin{align*}\n",
    "\\frac{dV}{dt} = V^2 + \\iota\n",
    "\\end{align*}\n",
    "\n",
    "We can easily transform back and forth between the two different models:\n",
    "\\begin{align*}\n",
    "V &\\equiv \\tan\\left( \\frac{\\theta}{2} \\right) \\\\\n",
    "\\theta &\\equiv \\arctan(2 \\cdot V)\\\\\n",
    "\\frac{dV}{dt} &= \\frac{1}{2 \\cos^2\\left( \\frac{\\theta}{2} \\right)}\\frac{d\\theta}{dt}\n",
    "\\end{align*}\n",
    "\n",
    "Using the transformation we obtain:\n",
    "\\begin{align}\n",
    "\\dot{\\theta}&=2\\left(\\cos ^{2}\\left(\\frac{\\theta}{2}\\right) \\tan ^{2}\\left(\\frac{\\theta}{2}\\right)+\\cos ^{2}\\left(\\frac{\\theta}{2}\\right) \\iota \\right) \\\\\n",
    "&=2\\left(\\sin ^{2}\\left(\\frac{\\theta}{2}\\right)+\\cos ^{2}\\left(\\frac{\\theta}{2}\\right) \\iota \\right)\n",
    "\\end{align}\n",
    "\n",
    "Using $\\cos ^{2}\\left(\\frac{\\theta}{2}\\right)=\\frac{1+\\cos \\left(\\frac{\\theta}{2}\\right)}{2}$ and $ \\sin ^{2}\\left(\\frac{\\theta}{2}\\right)=\\frac{1-\\cos \\left(\\frac{\\theta}{2}\\right)}{2}$:\n",
    "\\begin{align*}\n",
    "\\dot{\\theta}&=2\\left(\\frac{1-\\cos \\theta}{2}+\\left(\\frac{1+\\cos \\theta}{2}\\right) \\iota \\right)\\\\\n",
    "& = (1-\\cos \\theta)+(1+\\cos \\theta) \\cdot \\iota\n",
    "\\end{align*}\n",
    "\n",
    "The reverse transformation can be obtained by taking the inverse."
   ]
  },
  {
   "cell_type": "markdown",
   "metadata": {},
   "source": [
    "## Frequency response \n",
    "See https://grey.colorado.edu/CompCogNeuro/index.php/CCNBook/Neuron/Frequency_Current_Curve and Gutkin2014\n",
    "\n",
    "\n",
    "*In neuroscience, an F-I curve is the function that relates the net synaptic current flowing into a Neuron to its firing rate (′I′ is the measure for current, 'F' for firing rate.*\n",
    "\n",
    "\n",
    "To compute the frequency-current response curve we start from the QIF model. Seperate the variables:\n",
    "\n",
    "\\begin{align*}\n",
    "\\frac{dV}{dt} &= V^2 + \\iota \\\\\n",
    "\\frac{dV}{V^2 + \\iota} &= dt \\\\\n",
    "\\end{align*}\n",
    "\n",
    "Then integrate from the reset potential $V(0)$ at $t=0$ to the threshold potential $+\\infty$ at $t = T$, as we want to find T, the time required to go from the reset voltage to the spike threshold. This is tractable for the regime where $\\iota > 0$.\n",
    "\n",
    "\\begin{align*}\n",
    "\\int_{-\\infty}^{+\\infty} \\frac{dv}{v^2 + \\iota} &= \\int_{0}^{T} dt = T \\\\\n",
    "\\end{align*}\n",
    "\n",
    "Factoring out $\\iota$ we can obtain a recognisable form, and find $T$:\n",
    "\n",
    "\\begin{align*}\n",
    "T = \\int_{V(0)}^{+\\infty} \\frac{\\iota}{\\left(\\frac{v}{\\sqrt{\\iota}}\\right)^2 + 1} dv \n",
    "\\underset{x = \\frac{v}{\\sqrt{\\iota}} \\: \\:dx = \\frac{dv}{\\sqrt{\\iota}}}{=} \n",
    "\\int_{\\frac{V(0)}{\\sqrt{\\iota}}}^{+\\infty} \\frac{\\iota}{x^2 + 1} dx \n",
    "= \\frac{1}{\\sqrt{\\iota}} \\arctan(x) \\rvert_{\\frac{V(0)}{\\sqrt{\\iota}}}^{+\\infty} \n",
    "= \\frac{1}{\\sqrt{\\iota}} \\left( \\frac{\\pi}{2} - \\arctan \\left( \\frac{V(0)}{\\sqrt{\\iota}} \\right) \\right)\n",
    "\\end{align*}\n",
    "\n",
    "If then $V(0) = –\\infty$ the time between spikes is:\n",
    "\n",
    "\\begin{align*}\n",
    "T = \\lim_{V(0) \\rightarrow -\\infty} \\frac{1}{\\sqrt{\\iota}} \\left( \\frac{\\pi}{2} - \\arctan \\left( \\frac{V(0)}{\\sqrt{\\iota}} \\right) \\right) = \\frac{1}{\\sqrt{\\iota}} \\left( \\frac{\\pi}{2} - \\left( - \\frac{\\pi}{2} \\right) \\right)\n",
    "= \\frac{\\pi}{\\sqrt{\\iota}}\n",
    "\\end{align*}\n",
    "\n",
    "So the frequency of oscillation is proportional to $\\sqrt{\\iota}$. This result is valid for the theta and QIF models.\n"
   ]
  },
  {
   "cell_type": "markdown",
   "metadata": {},
   "source": [
    "We can measure the period between spikes in the model and verify this is correct\n",
    "\n",
    "![Testing the model equilibria](Figures/ThetaNeuronResponseToCurrentPeriod.png)"
   ]
  },
  {
   "cell_type": "markdown",
   "metadata": {},
   "source": [
    "## Solutions\n",
    "\n",
    "The general solution during the oscillatory regime $\\iota > 0$ is:\n",
    "\n",
    "\\begin{align*}\n",
    "\\int_{V(0)}^{V(t)} \\frac{dv}{v^2 + \\iota} \n",
    "= \\int_{V(0)}^{V(t)} \\frac{\\iota}{\\left(\\frac{v}{\\sqrt{\\iota}}\\right)^2 + 1} dv\n",
    "\\underset{x = \\frac{v}{\\sqrt{\\iota}} \\: \\:dx = \\frac{dv}{\\sqrt{\\iota}}}{=} \n",
    "\\int_{\\frac{V(0)}{\\sqrt{\\iota}}}^{\\frac{V(t)}{\\sqrt{\\iota}}} \\frac{\\iota}{x^2 + 1} dx\n",
    "= \\frac{1}{\\sqrt{\\iota}} \\arctan(x) \\rvert_{\\frac{V(0)}{\\sqrt{\\iota}}}^{\\frac{V(t)}{\\sqrt{\\iota}}} \n",
    "= \\frac{1}{\\sqrt{\\iota}} \\left( \\arctan \\left( \\frac{V(t)}{\\sqrt{\\iota}} \\right) - \\arctan \\left( \\frac{V(0)}{\\sqrt{t}} \\right) \\right) = \\int dt \n",
    "\\end{align*}\n",
    "\n",
    "So \n",
    "\n",
    "\\begin{align*}\n",
    "t &= \\frac{1}{\\sqrt{\\iota}} \\left( \\arctan \\left( \\frac{V(t)}{\\sqrt{t}} \\right) - \\arctan \\left( \\frac{V(0)}{\\sqrt{\\iota}} \\right) \\right) \\\\\n",
    "V(t) &= \\sqrt{\\iota} \\tan \\left( t\\sqrt{\\iota} + \\arctan \\left( \\frac{V(0)}{\\sqrt{\\iota}} \\right) \\right) \\longrightarrow V(0) = -\\infty \\\\\n",
    "V(t) &= \\lim_{V(0) = -\\infty} \\sqrt{\\iota} \\tan \\left( t\\sqrt{\\iota} + \\arctan \\left( \\frac{V(0)}{\\sqrt{\\iota}} \\right) \\right) = \\sqrt{\\iota} \\tan \\left( t\\sqrt{\\iota} - \\frac{\\pi}{2} \\right)\\\\\n",
    "\\end{align*}\n",
    "\n",
    "We obtain: \n",
    "\n",
    "\\begin{align*}\n",
    "V(t) = - \\sqrt{\\iota} \\cot \\left( t\\sqrt{\\iota} \\right)\n",
    "\\end{align*}\n",
    "\n",
    "For the theta neuron model this would yield \n",
    "\n",
    "\\begin{align*}\n",
    "\\theta(t) = 2\\arctan \\left( - \\sqrt{\\iota} \\cot \\left( t\\sqrt{\\iota} \\right) \\right)\n",
    "\\end{align*}\n",
    "\n",
    "Remember that this is only true for $\\theta(0) = -\\pi$.\n",
    "Is this a solution to the equations $\\dot{\\theta}=(1-\\cos \\theta)+(1+\\cos \\theta) \\cdot \\iota$?\n",
    "\n",
    "\\begin{align*}\n",
    "\\dot{\\theta} &= \\frac{d \\theta(t)}{dt} = \\frac{d}{dt} \\left( 2\\arctan \\left( - \\sqrt{\\iota} \\cot \\left( t\\sqrt{\\iota} \\right) \\right) \\right) \\\\\n",
    "&= 2 \\cdot \\frac{1}{ \\left(- \\sqrt{\\iota} \\cot \\left( t\\sqrt{\\iota} \\right) \\right)^2 + 1} \\cdot\n",
    "\\frac{d}{dt} \\left( - \\sqrt{\\iota} \\cot \\left( t\\sqrt{\\iota} \\right) \\right) \\\\\n",
    "&= 2 \\cdot \\frac{1}{ \\left(- \\sqrt{\\iota} \\cot \\left( t\\sqrt{\\iota} \\right) \\right)^2 + 1} \\cdot \n",
    "\\left( \\frac{-\\sqrt{\\iota} \\cdot \\sqrt{\\iota}}{\\sin^2 \\left( t\\sqrt{\\iota} \\right)} \\right) \\\\\n",
    "&= \\frac{-2 \\cdot \\iota}{ \\iota \\cot^2 \\left( t\\sqrt{\\iota} \\right)  + 1} \\cdot \n",
    "\\left( \\frac{1}{\\sin^2 \\left( t\\sqrt{\\iota} \\right)} \\right) \\\\\n",
    "&= \\frac{-2 \\cdot \\iota}{ \\iota \\frac{\\cos^2\\left( t\\sqrt{\\iota} \\right)}{\\sin^2 \\left( t\\sqrt{\\iota} \\right)}  + 1} \\cdot \n",
    "\\left( \\frac{1}{\\sin^2 \\left( t\\sqrt{\\iota} \\right)} \\right) \\\\\n",
    "&= \\frac{-2 \\cdot \\iota}{ \\iota \\cos^2\\left( t\\sqrt{\\iota} \\right)  + \\sin^2\\left( t\\sqrt{\\iota} \\right)} \n",
    "\\end{align*}\n",
    "\n",
    "Using that $\\frac{d \\arctan(x)}{dx} = \\frac{1}{x^2 + 1}$ and $\\frac{d \\cot(c\\cdot x)}{dx} = \\frac{c}{\\sin^2(c\\cdot x)}$."
   ]
  },
  {
   "cell_type": "markdown",
   "metadata": {},
   "source": [
    "We can in any case try it out, as expected we only have one working initial condition ($\\theta(0) = \\pi$) and we can only use static currents:\n",
    "\n",
    "![Testing the model equilibria](Figures/ThetaNeuronAnalyticalSolution.png)\n",
    "\n",
    "Using this expression with other functions like \n",
    "\n",
    "\\begin{align*}\n",
    "\\int_{V(0)}^{V(t)} \\frac{dv}{v^2 + \\iota(t)} \\text{ with } \\iota(t) = a + b\\cdot \\sin(c\\cdot t + d)\n",
    "\\end{align*}\n",
    "\n",
    "is intractable..."
   ]
  },
  {
   "cell_type": "markdown",
   "metadata": {},
   "source": [
    "## Sensitivity to the input current:\n",
    "We want to determine how sensitively the period $T$ depends in the input current $\\iota$. See 'Introduction To Neuronal Modelling, 2017'.\n",
    "\n",
    "We define the *condition number*, which measures by how much $T$ changes if $\\iota$ is perturbed.\n",
    "\\begin{align*}\n",
    "\\kappa = \\left| \\frac{dT}{d\\iota} \\frac{\\iota}{T} \\right| = \\left| \\frac{dT / T}{d\\iota / \\iota}\\right|\n",
    "\\end{align*}\n",
    "\n",
    "*If $\\kappa$ = 5 then a 1% change in $\\iota$ will change a 5% change in $T$*.\n",
    "\n",
    "For the theta neuron, use the fact that $\\sqrt{\\iota} = \\frac{\\pi}{T}$:\n",
    "\\begin{align*}\n",
    "\\kappa &= \\left| -\\frac{\\pi}{2}\\frac{1}{\\iota^{3/2}} \\frac{\\iota}{T} \\right| \n",
    "= \\left| \\frac{\\pi}{2} \\left(\\frac{1}{\\sqrt{\\iota}}\\right)^3 \\frac{\\iota}{T} \\right| \n",
    "= \\left| \\frac{\\pi}{2} \\left(\\frac{T}{\\pi}\\right)^3 \\frac{\\iota}{T} \\right| \n",
    "= \\frac{1}{2} \\left|\\left(\\frac{T}{\\pi}\\right)^2 \\cdot \\left(\\frac{\\pi}{T}\\right)^2 \\right| = \\frac{1}{2}\n",
    "\\end{align*}\n",
    "\n",
    "Which means that a 1% increase in the current reduces the period by half a percent. "
   ]
  },
  {
   "cell_type": "markdown",
   "metadata": {},
   "source": [
    "![Testing the model equilibria](Figures/ThetaNeuronResponseToCurrent.png)"
   ]
  },
  {
   "cell_type": "markdown",
   "metadata": {},
   "source": [
    "## Phase Resetting Curve?\n",
    "*Gutkin: The infinitesimal PRC is the adjoint of solution and is given by:*\n",
    "\n",
    "\\begin{align*}\n",
    "V(t) &= - \\sqrt{\\iota} \\cot \\left( t\\sqrt{\\iota} \\right) \\\\\n",
    "PRC(t) &= \\frac{1}{d V / d t} = \\frac{1}{2 \\sqrt{I}}\\left(1-\\cos \\left(2 \\cdot t \\cdot \\sqrt{I} \\right) \\right)\n",
    "\\end{align*}\n"
   ]
  },
  {
   "cell_type": "markdown",
   "metadata": {},
   "source": [
    "# Chapter: Networks of Theta neurons\n",
    "Construct networks of theta neurons defined by their adjacency matrix $A_{ij}$ and their threshold $\\eta$:\n",
    "\n",
    "\\begin{align*}\n",
    "\\dot{\\theta}_{i} &=\\left(1-\\cos \\theta_{i}\\right)+\\left(1+\\cos \\theta_{i}\\right) \\cdot\\left[\\eta_{i}+\\kappa I_{i}(t)\\right] \\\\ \n",
    "I_{i}(t) &=\\frac{1}{\\langle k\\rangle} \\sum_{j=1}^{N} A_{i j} \\cdot \\mathcal{P}_{n}\\left(\\theta_{j}\\right) \\\\\n",
    "\\mathcal{P}_n(\\theta)&=a_{n}(1-\\cos \\theta)^{n}\n",
    "\\end{align*}\n",
    "\n",
    "Measure synchrony with the order parameter:\n",
    "\\begin{align*}\n",
    "Z(t)=\\frac{1}{N} \\sum_{j=1}^{N} e^{\\mathrm{i} \\theta_{j}}\n",
    "\\end{align*}"
   ]
  },
  {
   "cell_type": "markdown",
   "metadata": {},
   "source": [
    "## The Ott-Antonsen reduced manifold:\n",
    "Hypothesis: an order parameter of the mean field in the continuum limit\n",
    "\\begin{align*}\n",
    "\\bar{Z}(t)=\\sum_{k^{\\prime}} \\frac{P\\left(k^{\\prime}\\right)}{N} \\int_{\\mathbb{R}} \\int_{-\\pi}^{\\pi} f\\left(\\vartheta, \\eta^{\\prime} \\mid k, t\\right) e^{\\mathrm{i} \\vartheta} d \\vartheta d \\eta^{\\prime}\n",
    "\\end{align*}\n",
    "\n",
    "\\begin{align}\n",
    "\\frac{\\partial z(k, t)}{\\partial t} &= - \\mathrm{i} \\frac{(z(k, t)-1)^{2}}{2} + \\frac{(z(k, t)+1)^{2}}{2} \\cdot \\iota  \\label{eq:MFRpart1}\\\\ \n",
    "\\iota &= -\\Delta + \\mathrm{i} \\eta_{0} + \\mathrm{i} \\kappa \\cdot H_{n}(k, t) \\label{eq:MFRpart2}\\\\\n",
    "H_{n}(k, t) &= \\frac{a_{n}}{\\langle k\\rangle}\\sum_{k^{\\prime}} P(k^{\\prime}) \\: a(k^{\\prime}, k) \\label{eq:MFRpart3}\\\\ \n",
    "&\\times\\left[A_{0}+\\sum_{p=1}^{n} A_{p}\\left(z\\left(k^{\\prime}, t\\right)^{p}+z^{*}\\left(k^{\\prime}, t\\right)^{p}\\right)\\right] \\nonumber\n",
    "\\end{align}\n",
    "\n",
    "Following ErikMartens2020, $H_2(k,t)$ is computed as:\n",
    "\n",
    "\\begin{align}\n",
    "H_{2}(k, t) &= \\frac{1}{\\langle k\\rangle}\\sum_{k^{\\prime}} P(k^{\\prime}) \\: a(k^{\\prime}, k) \\cdot\\left[1+\\frac{z(k^{\\prime},t) + \\bar{z}(k^{\\prime},t)}{6} -\\frac{4}{3} \\operatorname{Re}(z(k^{\\prime},t))\\right] \n",
    "\\end{align}\n",
    "\n",
    "So now we can measure:\n",
    "\\begin{align*}\n",
    "\\bar{Z}(t)=\\frac{1}{N} \\sum_{k} P(k) z(k, t)\n",
    "\\end{align*}\n",
    "\n",
    "The OA manifold brings us one step closer to reducing the computational irreducibility. That is why I think it is so important."
   ]
  },
  {
   "cell_type": "markdown",
   "metadata": {},
   "source": [
    "# Chapter: Synaptic Plasticity\n",
    "Synaptic plasticity is added to the different models by either convoluting in- and output signals of a neuron, or by using an instantanious scheme, or just from the network architecture. There are many possibilitties.\n"
   ]
  },
  {
   "cell_type": "markdown",
   "metadata": {},
   "source": [
    "##  'Adaptive Theta Neurons' - Gutkin2014\n",
    "Add an input to the current that is time-dependant:\n",
    "\n",
    "\\begin{align*}\n",
    "\\dot{\\theta}&=(1-\\cos \\theta)+(1+\\cos \\theta) \\cdot \\left(\\iota + \\sum g_{i j} s_{i j}\\right) \\\\\n",
    "\\end{align*}\n",
    "\n",
    "where $g_{ij}$ models the synaptic weight (positive for excitatory, negative for inhibitory)\n",
    "\\begin{align*}\n",
    "s_{i,j}^{\\prime}(t)=-\\frac{s_{i j}}{\\tau_{s}}+\\left(1-s_{i j}\\right) e^{-\\rho\\left(1-\\cos \\left(\\theta_{i}-\\theta_{\\text {thresh }}\\right)\\right)}\n",
    "\\end{align*}\n",
    "\n",
    "*Where $\\rho$ is roughly speaking the rise time of the synapse* (?) and $\\tau_s$ is the synaptic decay time scale.\n",
    "\n",
    "Or we can incorporate slower adaption current:\n",
    "\\begin{align*}\n",
    "\\theta^{\\prime}&=(1-\\cos \\theta)+(1+\\cos \\theta)(\\iota -\\mu z)\n",
    "\\end{align*}\n",
    "\n",
    "with $\\mu$ the strength of the adaptation current.\n",
    "\n",
    "\\begin{align*}\n",
    "\\tau_{z} z^{\\prime}&=D(\\theta)(1-z)-z \\\\\n",
    "D(\\theta)&=\\kappa \\exp \\{ -\\mathrm{C}\\left(1-\\cos \\left(\\theta-\\theta_{z}\\right)\\right) \\}\n",
    "\\end{align*}\n",
    "\n",
    "$\\theta_z$ controls whether the adaptation current is voltage dependant or spike dependant."
   ]
  }
 ],
 "metadata": {
  "kernelspec": {
   "display_name": "Python 3",
   "language": "python",
   "name": "python3"
  },
  "language_info": {
   "codemirror_mode": {
    "name": "ipython",
    "version": 3
   },
   "file_extension": ".py",
   "mimetype": "text/x-python",
   "name": "python",
   "nbconvert_exporter": "python",
   "pygments_lexer": "ipython3",
   "version": "3.7.3"
  }
 },
 "nbformat": 4,
 "nbformat_minor": 2
}

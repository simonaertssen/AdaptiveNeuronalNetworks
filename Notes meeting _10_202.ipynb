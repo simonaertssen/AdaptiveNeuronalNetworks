{
 "cells": [
  {
   "cell_type": "code",
   "execution_count": 2,
   "metadata": {},
   "outputs": [],
   "source": [
    "import matplotlib.pyplot as plt\n",
    "import numpy as np"
   ]
  },
  {
   "cell_type": "markdown",
   "metadata": {},
   "source": [
    "# Section: errata from in September"
   ]
  },
  {
   "cell_type": "markdown",
   "metadata": {},
   "source": [
    "## Measuring the fI curve\n",
    "Much better now:\n",
    "![Testing the model equilibria](Figures/ThetaNeuronResponseToCurrentPeriod.png)\n"
   ]
  },
  {
   "cell_type": "markdown",
   "metadata": {},
   "source": [
    "## Solutions for I(t) on a slow timeframe\n",
    "\n",
    "For the QIF neuron we were in trouble when using $\\iota = V$ as that would change the model. Inseperable ode's like this one cannot be solved due to the power on $V^2$.\n",
    "\n",
    "\\begin{align*}\n",
    "\\frac{dV}{dt} &= V^2 + t \\\\\n",
    "\\frac{dV}{dt} \\frac{1}{V} &= V + \\frac{t}{V}\\\\\n",
    "\\int_{V(0)}^{V(t)} \\frac{dv}{v^2 + v} &= \\int_{V(0)}^{V(t)} \\frac{dv}{v \\cdot ( v + 1)} \\\\\n",
    "\\frac{1}{v \\cdot ( v + \\alpha)} &= \\frac{A}{v} + \\frac{B}{( v + 1)} \\\\\n",
    "1 &= A \\cdot (v + 1) + B \\cdot v  \\longleftrightarrow A = 1 \\: \\& \\: B = -1\n",
    "\\end{align*}\n",
    "\n",
    "Another interesting solution might be that $\\iota = v$. Then:\n",
    "\n",
    "\\begin{align*}\n",
    "\\int_{V(0)}^{V(t)} \\frac{dv}{v^2 + v} &= \\int_{V(0)}^{V(t)} \\frac{dv}{v \\cdot ( v + 1)} \\\\\n",
    "\\frac{1}{v \\cdot ( v + \\alpha)} &= \\frac{A}{v} + \\frac{B}{( v + 1)} \\\\\n",
    "1 &= A \\cdot (v + 1) + B \\cdot v  \\longleftrightarrow A = 1 \\: \\& \\: B = -1\n",
    "\\end{align*}"
   ]
  }
 ],
 "metadata": {
  "kernelspec": {
   "display_name": "Python 3",
   "language": "python",
   "name": "python3"
  },
  "language_info": {
   "codemirror_mode": {
    "name": "ipython",
    "version": 3
   },
   "file_extension": ".py",
   "mimetype": "text/x-python",
   "name": "python",
   "nbconvert_exporter": "python",
   "pygments_lexer": "ipython3",
   "version": "3.7.3"
  }
 },
 "nbformat": 4,
 "nbformat_minor": 2
}

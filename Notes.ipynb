{
 "cells": [
  {
   "cell_type": "markdown",
   "metadata": {},
   "source": [
    "# The theta neuron model\n",
    "The theta neuron model is defined as follows:\n",
    "\\begin{align*}\n",
    "\\dot{\\theta}&=(1-\\cos \\theta)+(1+\\cos \\theta) \\cdot \\iota \\\\\n",
    "&=1-\\cos \\theta + \\iota + \\iota \\cos \\theta \\\\\n",
    "&=(\\iota + 1) + (\\iota - 1) \\cdot \\cos \\theta\\\\\n",
    "\\end{align*}\n",
    "\n",
    "The equilibrium points can be found from:\n",
    "\\begin{align*}\n",
    "\\iota + 1 &= (1 - \\iota) \\cdot \\cos \\theta\\\\\n",
    "\\theta &= \\pm\\arccos \\left( \\frac{\\iota + 1}{1-\\iota} \\right) + 2\\pi n\\\\\n",
    "\\end{align*}"
   ]
  },
  {
   "cell_type": "markdown",
   "metadata": {},
   "source": [
    "## QIF\n",
    "The theta model is closely related to the QIF model:\n",
    "\\begin{align*}\n",
    "\\frac{dV}{dt} = V^2 + \\iota\n",
    "\\end{align*}\n",
    "\n",
    "We can easily transform back and forth between the two different models:\n",
    "\\begin{align*}\n",
    "V &\\equiv \\tan\\left( \\frac{\\theta}{2} \\right) \\\\\n",
    "\\theta &\\equiv \\arctan(2 \\cdot V)\\\\\n",
    "\\frac{dV}{dt} &= \\frac{1}{2 \\cos^2\\left( \\frac{\\theta}{2} \\right)}\\frac{d\\theta}{dt}\n",
    "\\end{align*}\n",
    "\n",
    "Using the transformation we obtain:\n",
    "\\begin{align}\n",
    "\\dot{\\theta}&=2\\left(\\cos ^{2}\\left(\\frac{\\theta}{2}\\right) \\tan ^{2}\\left(\\frac{\\theta}{2}\\right)+\\cos ^{2}\\left(\\frac{\\theta}{2}\\right) \\iota \\right) \\\\\n",
    "&=2\\left(\\sin ^{2}\\left(\\frac{\\theta}{2}\\right)+\\cos ^{2}\\left(\\frac{\\theta}{2}\\right) \\iota \\right)\n",
    "\\end{align}\n",
    "\n",
    "Using $\\cos ^{2}\\left(\\frac{\\theta}{2}\\right)=\\frac{1+\\cos \\left(\\frac{\\theta}{2}\\right)}{2}$ and $ \\sin ^{2}\\left(\\frac{\\theta}{2}\\right)=\\frac{1-\\cos \\left(\\frac{\\theta}{2}\\right)}{2}$:\n",
    "\\begin{align*}\n",
    "\\dot{\\theta}&=2\\left(\\frac{1-\\cos \\theta}{2}+\\left(\\frac{1+\\cos \\theta}{2}\\right) \\iota \\right)\\\\\n",
    "& = (1-\\cos \\theta)+(1+\\cos \\theta) \\cdot \\iota\n",
    "\\end{align*}\n",
    "\n",
    "The reverse transformation can be obtained by taking the inverse."
   ]
  },
  {
   "cell_type": "markdown",
   "metadata": {},
   "source": [
    "## Frequency response \n",
    "See https://grey.colorado.edu/CompCogNeuro/index.php/CCNBook/Neuron/Frequency_Current_Curve\n",
    "\n",
    "\n",
    "*In neuroscience, an F-I curve is the function that relates the net synaptic current flowing into a Neuron to its firing rate (′I′ is the measure for current, 'F' for firing rate.*\n",
    "\n",
    "\n",
    "To compute the frequency-current response curve we start from the QIF model. Seperate the variables:\n",
    "\n",
    "\\begin{align*}\n",
    "\\frac{dV}{dt} &= V^2 + \\iota \\\\\n",
    "\\frac{dV}{V^2 + \\iota} &= dt \\\\\n",
    "\\end{align*}\n",
    "\n",
    "Then integrate from the reset potential $-\\infty$ at $t=0$ to the threshold potential $+\\infty$ at $t = T$, as we want to find T, the time required to go from the reset voltage to the spike threshold. This is tractable for the regime where $\\iota > 0$.\n",
    "\n",
    "\\begin{align*}\n",
    "\\int_{-\\infty}^{+\\infty} \\frac{dv}{v^2 + \\iota} &= \\int_{0}^{T} dt = T \\\\\n",
    "\\end{align*}\n",
    "\n",
    "Factoring out $\\iota$ we can obtain a recognisable form, and find $T$:\n",
    "\n",
    "\\begin{align*}\n",
    "T = \\int_{-\\infty}^{+\\infty} \\frac{\\iota}{\\left(\\frac{v}{\\sqrt{\\iota}}\\right)^2 + 1} dv \\underset{x = \\frac{v}{\\sqrt{\\iota}} \\: \\:dx = \\frac{dv}{\\sqrt{\\iota}}}{=} \\int_{-\\infty}^{+\\infty} \\frac{\\iota}{x^2 + 1} dx = \\frac{1}{\\sqrt{\\iota}} \\arctan(x) \\rvert_{-\\infty}^{+\\infty} = \\frac{1}{\\sqrt{\\iota}} \\left( \\frac{\\pi}{2} - \\left( - \\frac{\\pi}{2} \\right) \\right) = \\frac{\\pi}{\\sqrt{\\iota}}\n",
    "\\end{align*}\n"
   ]
  },
  {
   "cell_type": "markdown",
   "metadata": {},
   "source": [
    "# Synaptic Plasticity\n",
    "\n"
   ]
  }
 ],
 "metadata": {
  "kernelspec": {
   "display_name": "Python 3",
   "language": "python",
   "name": "python3"
  },
  "language_info": {
   "codemirror_mode": {
    "name": "ipython",
    "version": 3
   },
   "file_extension": ".py",
   "mimetype": "text/x-python",
   "name": "python",
   "nbconvert_exporter": "python",
   "pygments_lexer": "ipython3",
   "version": "3.7.3"
  }
 },
 "nbformat": 4,
 "nbformat_minor": 2
}

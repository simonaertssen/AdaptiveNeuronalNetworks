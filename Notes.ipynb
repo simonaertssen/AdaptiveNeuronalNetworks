{
 "cells": [
  {
   "cell_type": "markdown",
   "metadata": {},
   "source": [
    "# Chapter: The theta neuron model\n",
    "The theta neuron model is defined as follows:\n",
    "\\begin{align*}\n",
    "\\dot{\\theta}&=(1-\\cos \\theta)+(1+\\cos \\theta) \\cdot \\iota \\hspace{10mm} \\theta \\in S^1 \\\\\n",
    "&=1-\\cos \\theta + \\iota + \\iota \\cos \\theta \\\\\n",
    "&=(\\iota + 1) + (\\iota - 1) \\cdot \\cos \\theta\\\\\n",
    "\\end{align*}\n",
    "\n",
    "For $\\iota > 0$, $\\dot{\\theta} > 0$ and $\\theta$ moves continuously around the unit circle. Equilibria only exist for $\\iota < 0$:\n",
    "\\begin{align*}\n",
    "\\iota + 1 &= (1 - \\iota) \\cdot \\cos \\theta\\\\\n",
    "\\theta^* &= \\pm\\arccos \\left( \\frac{\\iota + 1}{1-\\iota} \\right) + 2\\pi n\\\\\n",
    "\\end{align*}\n",
    "\n",
    "\n",
    "For some of the extreme values of $\\frac{\\iota + 1}{1-\\iota}$, we have that: \n",
    "\n",
    "\\begin{align*}\n",
    "\\lim_{\\iota \\rightarrow -1} \\theta^* &= \\pm \\arccos (0) + 2\\pi n = 0 + 2\\pi n \\\\\n",
    "\\end{align*}\n",
    "\n",
    "Concerning the stability:\n",
    "\\begin{align*}\n",
    "\\frac{d}{d\\theta}\\left((1-\\cos \\theta)+(1+\\cos \\theta) \\cdot \\iota \\right) \n",
    "&= \\sin \\theta + \\sin \\theta \\cdot \\iota = (1 + \\iota)\\sin \\theta \n",
    "= (1 + \\iota)\\sin\\left(\\pm\\arccos \\left( \\frac{\\iota + 1}{1-\\iota} \\right) \\right) \\\\\n",
    "&= \\pm (1 + \\iota) \\cdot \\sqrt{1 - \\frac{\\iota + 1}{1-\\iota}}\n",
    "= \\pm (1 + \\iota) \\cdot \\frac{2j\\sqrt{\\iota}}{1-\\iota}\n",
    "\\end{align*}\n",
    "\n",
    "Where $j = \\sqrt{-1}$."
   ]
  },
  {
   "cell_type": "markdown",
   "metadata": {},
   "source": [
    "![Testing the model equilibria](Figures/ThetaModelEquilibriumPoints.png)"
   ]
  },
  {
   "cell_type": "markdown",
   "metadata": {},
   "source": [
    "## QIF\n",
    "The theta model is closely related to the QIF model:\n",
    "\\begin{align*}\n",
    "\\frac{dV}{dt} = V^2 + \\iota\n",
    "\\end{align*}\n",
    "\n",
    "We can easily transform back and forth between the two different models:\n",
    "\\begin{align*}\n",
    "V &\\equiv \\tan\\left( \\frac{\\theta}{2} \\right) \\\\\n",
    "\\theta &\\equiv \\arctan(2 \\cdot V)\\\\\n",
    "\\frac{dV}{dt} &= \\frac{1}{2 \\cos^2\\left( \\frac{\\theta}{2} \\right)}\\frac{d\\theta}{dt}\n",
    "\\end{align*}\n",
    "\n",
    "Using the transformation we obtain:\n",
    "\\begin{align}\n",
    "\\dot{\\theta}&=2\\left(\\cos ^{2}\\left(\\frac{\\theta}{2}\\right) \\tan ^{2}\\left(\\frac{\\theta}{2}\\right)+\\cos ^{2}\\left(\\frac{\\theta}{2}\\right) \\iota \\right) \\\\\n",
    "&=2\\left(\\sin ^{2}\\left(\\frac{\\theta}{2}\\right)+\\cos ^{2}\\left(\\frac{\\theta}{2}\\right) \\iota \\right)\n",
    "\\end{align}\n",
    "\n",
    "Using $\\cos ^{2}\\left(\\frac{\\theta}{2}\\right)=\\frac{1+\\cos \\left(\\frac{\\theta}{2}\\right)}{2}$ and $ \\sin ^{2}\\left(\\frac{\\theta}{2}\\right)=\\frac{1-\\cos \\left(\\frac{\\theta}{2}\\right)}{2}$:\n",
    "\\begin{align*}\n",
    "\\dot{\\theta}&=2\\left(\\frac{1-\\cos \\theta}{2}+\\left(\\frac{1+\\cos \\theta}{2}\\right) \\iota \\right)\\\\\n",
    "& = (1-\\cos \\theta)+(1+\\cos \\theta) \\cdot \\iota\n",
    "\\end{align*}\n",
    "\n",
    "The reverse transformation can be obtained by taking the inverse."
   ]
  },
  {
   "cell_type": "markdown",
   "metadata": {},
   "source": [
    "## Frequency response \n",
    "See https://grey.colorado.edu/CompCogNeuro/index.php/CCNBook/Neuron/Frequency_Current_Curve and Gutkin2014\n",
    "\n",
    "\n",
    "*In neuroscience, an F-I curve is the function that relates the net synaptic current flowing into a Neuron to its firing rate (′I′ is the measure for current, 'F' for firing rate.*\n",
    "\n",
    "\n",
    "To compute the frequency-current response curve we start from the QIF model. Seperate the variables:\n",
    "\n",
    "\\begin{align*}\n",
    "\\frac{dV}{dt} &= V^2 + \\iota \\\\\n",
    "\\frac{dV}{V^2 + \\iota} &= dt \\\\\n",
    "\\end{align*}\n",
    "\n",
    "Then integrate from the reset potential $-\\infty$ at $t=0$ to the threshold potential $+\\infty$ at $t = T$, as we want to find T, the time required to go from the reset voltage to the spike threshold. This is tractable for the regime where $\\iota > 0$.\n",
    "\n",
    "\\begin{align*}\n",
    "\\int_{-\\infty}^{+\\infty} \\frac{dv}{v^2 + \\iota} &= \\int_{0}^{T} dt = T \\\\\n",
    "\\end{align*}\n",
    "\n",
    "Factoring out $\\iota$ we can obtain a recognisable form, and find $T$:\n",
    "\n",
    "\\begin{align*}\n",
    "T = \\int_{-\\infty}^{+\\infty} \\frac{\\iota}{\\left(\\frac{v}{\\sqrt{\\iota}}\\right)^2 + 1} dv \\underset{x = \\frac{v}{\\sqrt{\\iota}} \\: \\:dx = \\frac{dv}{\\sqrt{\\iota}}}{=} \\int_{-\\infty}^{+\\infty} \\frac{\\iota}{x^2 + 1} dx = \\frac{1}{\\sqrt{\\iota}} \\arctan(x) \\rvert_{-\\infty}^{+\\infty} = \\frac{1}{\\sqrt{\\iota}} \\left( \\frac{\\pi}{2} - \\left( - \\frac{\\pi}{2} \\right) \\right) = \\frac{\\pi}{\\sqrt{\\iota}}\n",
    "\\end{align*}\n",
    "\n",
    "So the frequency of oscillation is proportional to $\\sqrt{\\iota}$. This result is valid for the theta and QIF models."
   ]
  },
  {
   "cell_type": "markdown",
   "metadata": {},
   "source": [
    "## Sensitivity to the input current:\n",
    "We want to determine how sensitively the period $T$ depends in the input current $\\iota$. See 'Introduction To Neuronal Modelling, 2017'.\n",
    "\n",
    "We define the *condition number*, which measures by how much $T$ changes if $\\iota$ is perturbed.\n",
    "\\begin{align*}\n",
    "\\kappa = \\left| \\frac{dT}{d\\iota} \\frac{\\iota}{T} \\right| = \\left| \\frac{dT / T}{d\\iota / \\iota}\\right|\n",
    "\\end{align*}\n",
    "\n",
    "*If $\\kappa$ = 5 then a 1% change in $\\iota$ will change a 5% change in $T$*.\n",
    "\n",
    "For the theta neuron, use the fact that $\\sqrt{\\iota} = \\frac{\\pi}{T}$:\n",
    "\\begin{align*}\n",
    "\\kappa &= \\left| -\\frac{\\pi}{2}\\frac{1}{\\iota^{3/2}} \\frac{\\iota}{T} \\right| \n",
    "= \\left| \\frac{\\pi}{2} \\left(\\frac{1}{\\sqrt{\\iota}}\\right)^3 \\frac{\\iota}{T} \\right| \n",
    "= \\left| \\frac{\\pi}{2} \\left(\\frac{T}{\\pi}\\right)^3 \\frac{\\iota}{T} \\right| \n",
    "= \\frac{1}{2} \\left|\\left(\\frac{T}{\\pi}\\right)^2 \\cdot \\left(\\frac{\\pi}{T}\\right)^2 \\right| = \\frac{1}{2}\n",
    "\\end{align*}\n",
    "\n",
    "Which means that a 1% increase in the current reduces the period by half."
   ]
  },
  {
   "cell_type": "markdown",
   "metadata": {},
   "source": [
    "![Testing the model equilibria](Figures/ThetaNeuronResponseToCurrent.png)"
   ]
  },
  {
   "cell_type": "markdown",
   "metadata": {},
   "source": [
    "# Chapter: Synaptic Plasticity\n",
    "Synaptic plasticity is added to the different models by either convoluting in- and output signals of a neuron, or by using an instantanious scheme, or just from the network architecture. There are many possibilitties.\n"
   ]
  },
  {
   "cell_type": "markdown",
   "metadata": {},
   "source": [
    "##  'Adaptive Theta Neurons' - Gutkin2014\n",
    "Add an input to the current that is time-dependant:\n",
    "\n",
    "\\begin{align*}\n",
    "\\dot{\\theta}&=(1-\\cos \\theta)+(1+\\cos \\theta) \\cdot (\\iota + \\\\\n",
    "\\end{align*}"
   ]
  }
 ],
 "metadata": {
  "kernelspec": {
   "display_name": "Python 3",
   "language": "python",
   "name": "python3"
  },
  "language_info": {
   "codemirror_mode": {
    "name": "ipython",
    "version": 3
   },
   "file_extension": ".py",
   "mimetype": "text/x-python",
   "name": "python",
   "nbconvert_exporter": "python",
   "pygments_lexer": "ipython3",
   "version": "3.7.3"
  }
 },
 "nbformat": 4,
 "nbformat_minor": 2
}

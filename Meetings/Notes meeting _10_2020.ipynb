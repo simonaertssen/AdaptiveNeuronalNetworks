{
 "cells": [
  {
   "cell_type": "code",
   "execution_count": 2,
   "metadata": {},
   "outputs": [],
   "source": [
    "import matplotlib.pyplot as plt\n",
    "import numpy as np"
   ]
  },
  {
   "cell_type": "markdown",
   "metadata": {},
   "source": [
    "# Section: errata from in September"
   ]
  },
  {
   "cell_type": "markdown",
   "metadata": {},
   "source": [
    "## Measuring the fI curve\n",
    "Much better now:\n",
    "![Testing the model equilibria](../Figures/ThetaNeuronResponseToCurrentPeriod.png)\n"
   ]
  },
  {
   "cell_type": "markdown",
   "metadata": {},
   "source": [
    "## Perturbations: recap\n",
    "Try a perturbation of the Duffing equation:\n",
    "\n",
    "\\begin{align*}\n",
    "\\ddot{x}+x+\\epsilon x^{3}=0, \\quad 0<\\varepsilon \\ll 1 \\hspace{10mm} x(0) = a, \\dot{x}(0) = 0\n",
    "\\end{align*}\n",
    "\n",
    "Say that $x(t)=x_{0}(t)+\\varepsilon x_{1}(t)+\\varepsilon^{2} x_{2}(t) + \\mathcal{O}(\\varepsilon^3)$:\n",
    "\\begin{align*}\n",
    "0 &= \\ddot{x_0} + \\varepsilon\\ddot{x_1} + \\varepsilon^2 \\ddot{x_2} + x_0 + \\varepsilon x_{1} + \\varepsilon^{2} x_2 + \\epsilon (x_{0} + \\varepsilon x_{1})^{3} + \\mathcal{O}(\\varepsilon^3)\\\\\n",
    "&= \\ddot{x_0} + \\varepsilon\\ddot{x_1} + \\varepsilon^2 \\ddot{x_2} + x_0 + \\varepsilon x_{1} + \\varepsilon^2 x_2 + \\varepsilon (x_0^3 + \\varepsilon 3 x_0^3 x_1^3 ) + \\mathcal{O}(\\varepsilon^3) \\\\\n",
    "&= \\ddot{x_0} + x_0 + \\varepsilon \\cdot \\left(\\ddot{x_1} + x_{1} + x_0^3\\right) + \\varepsilon^2 \\cdot \\left(\\ddot{x_2} + x_2 + 3 x_0^3 x_1^3 \\right) + \\mathcal{O}(\\varepsilon^3)\n",
    "\\end{align*}\n",
    "\n",
    "This yields for the $\\mathcal{O}(1)$:\n",
    "\\begin{align*}\n",
    "0 &= \\ddot{x_0} + x_0  \\hspace{10mm} x_o = e^{ax} \\\\\n",
    "&= a^2 e^{ax} + e^{ax} = e^{ax} \\cdot \\left(a^2 + 1\\right) \\rightarrow a = \\pm i\n",
    "\\end{align*}\n",
    "\n",
    "For $a_1 \\neq a_2$ with $a_1 = \\alpha + i \\beta$ and $a_2 = \\alpha - i \\beta$ the solution is:\n",
    "\\begin{align*}\n",
    "x_0(t) &= e^{\\alpha x} \\left( c_1 \\cos \\left( \\beta t \\right) + c_2 \\sin \\left( \\beta t \\right) \\right) =  c_1 \\cos t + c_2 \\sin t \\\\\n",
    "x_0(0) &= a = c_1 \\\\\n",
    "x_0(t) &= a \\cos t\n",
    "\\end{align*}\n",
    "\n",
    "\n",
    "For the $\\mathcal{O}(\\varepsilon)$:\n",
    "\\begin{align*}\n",
    "\\ddot{x_1} + x_1 &= -x_0^3 = -a^3 \\cos^3 t = -\\frac{a^{3}}{4}(3 \\cos t+\\cos 3 t)\n",
    "\\end{align*}\n",
    "\n",
    "The homogeneous solution is again $x_1(t) = a \\cos t$, and we can split the particular solution in two parts. Suggest $x_{1,p_1} = A \\cos t + B \\sin t$:\n",
    "\\begin{align*}\n",
    "\\frac{d}{dt}\\left( -A \\sin t + B \\cos t \\right) + A \\cos t + B \\sin t &= -A \\cos t - B \\sin t + A \\cos t + B \\sin t = -\\frac{3a^{3}}{4} \\cos t \n",
    "\\end{align*}\n",
    "\n",
    "That does not work. Try $x_{1,p_1} = A t \\cos t + B t \\sin t$:\n",
    "\\begin{align*}\n",
    "\\frac{d}{dt}\\left( A \\cos t - A t \\sin t + B \\sin t + B t \\cos t \\right) + A t \\cos t + B t \\sin t &= -A \\sin t - A \\sin t - A t \\cos t + B \\cos t + B \\cos t - B t \\sin t = -\\frac{3a^{3}}{4} \\cos t \\\\\n",
    "&\n",
    "\\begin{cases}\n",
    "\\mathcal{O}(\\sin t): -A - A = 0 \\\\\n",
    "\\mathcal{O}(t \\cos t): A = 0 \\\\\n",
    "\\mathcal{O}(\\cos t): 2B = -\\frac{3a^{3}}{4} \\leftrightarrow B = -\\frac{3a^{3}}{8}\\\\\n",
    "\\end{cases}\n",
    "\\end{align*}\n",
    "\n",
    "Then the other particular solution: try $x_{1,p_2} = A \\cos (3 t) + B \\sin (3 t)$:\n",
    "\\begin{align*}\n",
    "\\frac{d}{dt}\\left( - 3 A \\sin t + 3 B \\cos t \\right) + A \\cos (3 t) + B \\sin (3 t) &= -9A \\cos (3 t) -9 B \\sin t(3 t) + A \\cos (3 t) + B \\sin (3 t) = -\\frac{a^{3}}{4} \\cos (3 t) \\\\\n",
    "&\n",
    "\\begin{cases}\n",
    "\\mathcal{O}(\\cos t): -9A + A = -8 A = -\\frac{a^{3}}{4} \\leftrightarrow A = \\frac{a^{3}}{32}\\\\\n",
    "\\mathcal{O}(\\sin t): B = 0\n",
    "\\end{cases}\n",
    "\\end{align*}\n",
    "\n",
    "So now:\n",
    "\\begin{align*}\n",
    "x(t) = a \\cos t + \\varepsilon \\cdot \\left( -\\frac{3a^{3}}{8}t \\sin t + \\frac{a^{3}}{32} \\cos (3 t) \\right) + \\varepsilon^{2} x_{2}(t) + \\mathcal{O}(\\varepsilon^3)\n",
    "\\end{align*}\n",
    "\n",
    "And so on for the terms in $\\varepsilon^2$."
   ]
  },
  {
   "cell_type": "markdown",
   "metadata": {},
   "source": [
    "## Solutions for I(t) on a slow timeframe\n",
    "\n",
    "For the QIF neuron we were in trouble when using $\\iota = V$ as that would change the model. Inseperable ode's like\n",
    "\n",
    "\\begin{align*}\n",
    "\\frac{dV}{dt} &= V^2 + \\iota(t) \\\\\n",
    "\\end{align*}\n",
    "\n",
    "cannot be solved exactly due to the power on $V^2$. However, we can perform pertubations!\n",
    "\n",
    "### Perturbation on $\\iota(t) = \\iota_0 + \\varepsilon t$\n",
    "\\begin{align*}\n",
    "\\frac{dV}{dt} &= V^2 + \\iota_0 + \\varepsilon t \\hspace{10mm} V(t=0) = –\\infty \\\\\n",
    "\\end{align*}\n",
    "\n",
    "Take $V(t, \\varepsilon) = V_0(t) + \\varepsilon V_1(t) + \\varepsilon^2 V_2(t) + \\mathcal{O}(\\varepsilon^3)$:\n",
    "\n",
    "\\begin{align*}\n",
    "\\frac{dV}{dt} &= V^2 + \\iota_0 + \\varepsilon t\\\\\n",
    "\\dot{V_0(t)} + \\varepsilon \\dot{V_1(t)} + \\varepsilon^2 \\dot{V_2(t)} &= \\left( V_0(t) \\right)^2 + \\left( \\varepsilon V_1(t) \\right)^2  + 2 \\varepsilon V_0(t) V_1(t) + 2 \\varepsilon^2 V_0(t) V_2(t) + \\mathcal{O}(\\varepsilon^3) + \\iota_0 + \\varepsilon t \\\\\n",
    "0 &= \\left( -\\dot{V_0(t)} + \\left( V_0(t) \\right)^2 + \\iota_0 \\right) + \\varepsilon \\cdot \\left( -\\dot{V_1(t)} +  2 V_0(t) V_1(t) + t \\right) + \\varepsilon^2 \\cdot \\left( -\\dot{V_2(t)} + \\left( V_2(t) \\right)^2 + 2 V_0(t) V_2(t) \\right)\n",
    "\\end{align*}\n",
    "\n",
    "For $\\mathcal{O}(1)$:\n",
    "\n",
    "\\begin{align*}\n",
    "\\dot{V_0(t)} &= \\left( V_0(t) \\right)^2 + \\iota_0 \\\\\n",
    "\\int_{V_0(0)}^{V_0(t)} \\frac{dv}{v^2 + \\iota_0} \n",
    "&= \\int_{V_0(0)}^{V_0(t)} \\frac{1}{\\iota_0 \\left(\\left(\\frac{v}{\\sqrt{\\iota_0}}\\right)^2 + 1 \\right)} dv\n",
    "\\underset{x = \\frac{v}{\\sqrt{\\iota_0}} \\: \\:dx = \\frac{dv}{\\sqrt{\\iota_0}}}{=} \n",
    "\\frac{1}{\\sqrt{\\iota_0}}\\int_{\\frac{V_0(0)}{\\sqrt{\\iota_0}}}^{\\frac{V_0(t)}{\\sqrt{\\iota_0}}} \\frac{1}{x^2 + 1} dx \\\\\n",
    "&= \\frac{1}{\\sqrt{\\iota_0}} \\arctan(x) \\rvert_{\\frac{V_0(0)}{\\sqrt{\\iota_0}}}^{\\frac{V_0(t)}{\\sqrt{\\iota_0}}} \n",
    "= \\frac{1}{\\sqrt{\\iota_0}} \\left( \\arctan \\left( \\frac{V_0(t)}{\\sqrt{\\iota_0}} \\right) - \\arctan \\left( \\frac{V_0(0)}{\\sqrt{\\iota_0}} \\right) \\right) = \\int_0^t d\\tau = t\n",
    "\\end{align*}\n",
    "\n",
    "So \n",
    "\n",
    "\\begin{align*}\n",
    "t &= \\frac{1}{\\sqrt{\\iota_0}} \\left( \\arctan \\left( \\frac{V_0(t)}{\\sqrt{\\iota_0}} \\right) - \\arctan \\left( \\frac{V_0(0)}{\\sqrt{\\iota_0}} \\right) \\right) \\\\\n",
    "V_0(t) &= \\sqrt{\\iota_0} \\tan \\left( t\\sqrt{\\iota_0} + \\arctan \\left( \\frac{V_0(0)}{\\sqrt{\\iota_0}} \\right) \\right) \\longrightarrow V_0(0) = -\\infty \\\\\n",
    "V_0(t) &= \\lim_{V_0(0) \\rightarrow -\\infty} \\sqrt{\\iota_0} \\tan \\left( t\\sqrt{\\iota_0} + \\arctan \\left( \\frac{V_0(0)}{\\sqrt{\\iota_0}} \\right) \\right) = \\sqrt{\\iota_0} \\tan \\left( t\\sqrt{\\iota_0} - \\frac{\\pi}{2} \\right)\\\\\n",
    "\\end{align*}\n",
    "\n",
    "Then\n",
    "\n",
    "\\begin{align*}\n",
    "V_0(t) = - \\sqrt{\\iota_0} \\cot \\left( t\\sqrt{\\iota_0} \\right)\n",
    "\\end{align*}\n"
   ]
  },
  {
   "cell_type": "markdown",
   "metadata": {},
   "source": [
    "Now for $\\mathcal{O}(\\varepsilon)$:\n",
    "\n",
    "\\begin{align*}\n",
    "\\frac{d}{d\\varepsilon}&: \\dot{V_1(t)} + 2 \\varepsilon \\dot{V_2(t)} = 2 V_0(t) V_1(t) + 2 \\varepsilon V_1(t)^2 + t\\\\\n",
    "\\frac{d}{d\\varepsilon}\\rvert_{\\varepsilon = 0}&: \\dot{V_1(t)} = 2 V_0(t) V_1(t) + t \\\\\n",
    "\\end{align*}\n",
    "\n",
    "Change variables: $\\frac{dx}{dt} - 2 V_0(t) x = \\frac{dx}{dt} + p(t) x = t$. Recognise that this is an inseperable differential equation! Take \n",
    "\n",
    "\\begin{align*}\n",
    "\\mu &= \\exp \\left\\{ \\int p(t)dt \\right\\} \\\\\n",
    "\\int p(t)dt &= - 2\\int V_0(t)dt = 2\\sqrt{\\iota_0} \\int \\cot \\left( t\\sqrt{\\iota_0} \\right) dt\n",
    "\\underset{x = t \\sqrt{\\iota_0} \\: \\:dx = \\sqrt{\\iota_0} dt}{=} \n",
    "2\\int \\cot (x) dx \\\\\n",
    "&= 2\\int \\frac{\\cos(x)}{\\sin(x)} dx\n",
    "\\underset{u = \\sin(x) \\: \\:du = \\cos(x) dx}{=} \n",
    "2\\int \\frac{1}{v} dx = 2 \\cdot \\ln \\lvert v \\rvert = 2 \\cdot \\ln \\lvert \\sin \\left(t \\sqrt{\\iota_0} \\right) \\rvert \\\\\n",
    "\\mu &= \\exp \\left\\{ 2 \\cdot \\ln \\lvert \\sin \\left(t \\sqrt{\\iota_0} \\right) \\rvert \\right\\} = \\lvert \\sin \\left(t \\sqrt{\\iota_0} \\right) \\rvert^2 = \\left( \\sqrt{\\sin^2 \\left(t \\sqrt{\\iota_0} \\right) } \\right)^2 = \\sin^2 \\left(t \\sqrt{\\iota_0} \\right)\n",
    "\\end{align*}\n",
    "\n",
    "Now we can say that $\\frac{d\\mu}{dt} = \\mu p(t)$ and that $x = \\frac{1}{\\mu} \\int \\mu p(t) dt$ (see theory on inseperable equations [here](https://en.wikipedia.org/wiki/Inseparable_differential_equation)):\n",
    "\n",
    "\\begin{align*}\n",
    "\\int \\mu p(t) dt &= 2\\sqrt{\\iota_0} \\int \\sin^2 \\left(t \\sqrt{\\iota_0} \\right) \\cdot \\frac{ \\cos \\left( t\\sqrt{\\iota_0} \\right)}{\\sin \\left( t\\sqrt{\\iota_0} \\right)}dt \\\\\n",
    "&= 2\\sqrt{\\iota_0} \\int \\sin \\left(t \\sqrt{\\iota_0} \\right) \\cdot \\cos \\left( t\\sqrt{\\iota_0} \\right) dt\n",
    "\\underset{x = t \\sqrt{\\iota_0} \\: \\:dx = \\sqrt{\\iota_0} dt}{=} \n",
    "2 \\int \\sin (x) \\cdot \\cos (x) dx\n",
    "\\underset{u = \\sin(x) \\: \\:du = \\cos(x) dx}{=} \n",
    "2 \\int u du = 2 \\frac{u}{2} = \\sin^2 \\left(t \\sqrt{\\iota_0} \\right) + c_1\n",
    "\\end{align*}\n",
    "\n",
    "That leaves us with:\n",
    "\n",
    "\\begin{align*}\n",
    "x = V_1(t) &= \\frac{\\sin^2 \\left(t \\sqrt{\\iota_0} \\right) + c_1}{\\sin^2 \\left(t \\sqrt{\\iota_0} \\right)}\n",
    "= 1 + \\frac{c_1}{\\sin^2 \\left(t \\sqrt{\\iota_0} \\right)} \\\\\n",
    "c_1 &= \\left( V_1(t) - 1 \\right) \\cdot \\sin^2 \\left(t \\sqrt{\\iota_0} \\right)\n",
    "\\end{align*}\n",
    "\n",
    "Evaluate at $t = 0$ so that $V_1(0) = -\\infty$?\n",
    "\n",
    "\\begin{align*}\n",
    "c_1 &= \\lim_{t \\rightarrow 0} \\left( V_1(t) - 2 \\right) \\cdot \\sin^2 \\left(t \\sqrt{\\iota_0} \\right)\n",
    "= \\left( -\\infty - 2 \\right) \\cdot \\sin^2 (0) \n",
    "=\\left( -\\infty - 2 \\right) \\cdot 0 = 0\n",
    "\\end{align*}\n",
    "\n",
    "So $V_1(t) = 1$? Doesn't seem to make sense, but this does not seem to depend on $V_1(0)$, only on $t=0$.\n"
   ]
  },
  {
   "cell_type": "markdown",
   "metadata": {},
   "source": [
    "Then let's continue with $\\mathcal{O}(\\varepsilon^2)$:\n",
    "\\begin{align*}\n",
    "\\dot{V_2(t)} &= V_2(t)^2 + 2 \\cdot V_0(t) \\cdot V_2(t) \\\\\n",
    "\\dot{V_2(t)} \\cdot \\frac{1}{V_2(t)} &= V_2(t) + 2 \\cdot V_0(t)\n",
    "\\end{align*}\n",
    "\n",
    "This is again an inseperable equation, but there does not seem to exist an expression to solve this differential equation."
   ]
  },
  {
   "cell_type": "markdown",
   "metadata": {},
   "source": [
    "# Section: the learning window as a polynomial\n",
    "We will investigate how to reduce the complexity of the learning window function. The properties of the learning window $W(s)$ are:\n",
    "* $W$ is defined on an interval $[-\\tau, \\tau]$\n",
    "* \n"
   ]
  },
  {
   "cell_type": "code",
   "execution_count": 29,
   "metadata": {},
   "outputs": [
    {
     "data": {
      "image/png": "[encoded data removed]",
      "text/plain": [
       "<Figure size 720x360 with 1 Axes>"
      ]
     },
     "metadata": {
      "needs_background": "light"
     },
     "output_type": "display_data"
    }
   ],
   "source": [
    "# Kempter 1999 learning window:\n",
    "t_syn = 5.0e-6\n",
    "t_pos = 1.0e-6\n",
    "t_neg = 20.0e-6\n",
    "A_p = 1\n",
    "A_n = -1\n",
    "\n",
    "def Window(t, t_syn, t_pos, t_neg, A_p, A_n):\n",
    "    learning_rate = 10.0e-5\n",
    "    eps = 1.0e-9\n",
    "    \n",
    "    W = np.zeros(t.shape)\n",
    "    t_neg_idx = t <= 0\n",
    "    t_pos_idx = t > 0\n",
    "    W[t_neg_idx] = np.exp(t[t_neg_idx]/t_syn + eps)*(A_p*(1-t[t_neg_idx]/t_pos) + A_n*(1-t[t_neg_idx]/t_neg))\n",
    "    W[t_pos_idx] = A_p*np.exp(-t[t_pos_idx]/t_pos + eps) + A_n*np.exp(-t[t_pos_idx]/t_neg + eps)\n",
    "    return learning_rate * W\n",
    "\n",
    "\n",
    "# Approximation by a polynomial:\n",
    "t_pts = 1.0e-4 * np.array([-2, -1, -0.25, -0.05, 0, 0.05, 0.25, 1, 2])\n",
    "W_vls = 1.0e-4 * np.array([0, 0, 0.2, 1.75, 0, -0.75, -0.25, 0, 0])\n",
    "\n",
    "def Polynomial(t, t_pts, W_vls):\n",
    "    pol = np.polyfit(t_pts, W_vls, t_pts.size-3)\n",
    "    return np.polyval(pol,t) \n",
    "    \n",
    "t = np.linspace(-1.0e-4, 1.0e-4, 500)\n",
    "W_k = Window(t, t_syn, t_pos, t_neg, A_p, A_n)\n",
    "W_a = Polynomial(t, t_pts, W_vls)\n",
    "\n",
    "plt.figure(figsize=(10,5))\n",
    "plt.grid(True)\n",
    "plt.plot(t,W_k,'k',label=\"Learning window\")\n",
    "plt.plot(t,W_a,'r',label=\"Learning window\")\n",
    "plt.scatter(t_pts,W_vls,c='r')\n",
    "\n",
    "plt.xticks(rotation=45, ha=\"right\")\n",
    "plt.xlabel(r\"$t$\")\n",
    "plt.ylabel(r\"$W$\")\n",
    "\n",
    "plt.legend();\n"
   ]
  },
  {
   "cell_type": "code",
   "execution_count": 6,
   "metadata": {},
   "outputs": [
    {
     "name": "stdout",
     "output_type": "stream",
     "text": [
      "-5.558565196844804e-10\n"
     ]
    }
   ],
   "source": [
    "# Compute the area with a trapezoidal rule:\n",
    "from np import trapz\n",
    "integral = trapz(t,W)\n",
    "print(integral)"
   ]
  },
  {
   "cell_type": "code",
   "execution_count": 66,
   "metadata": {},
   "outputs": [
    {
     "name": "stdout",
     "output_type": "stream",
     "text": [
      "Jacobi Method Output:\n",
      "Number of Iterations:  35\n",
      "Norm of Difference:  0.0\n"
     ]
    },
    {
     "data": {
      "text/plain": [
       "[<matplotlib.lines.Line2D at 0x117fcec18>]"
      ]
     },
     "execution_count": 66,
     "metadata": {},
     "output_type": "execute_result"
    },
    {
     "data": {
      "image/png": "[encoded data removed]",
      "text/plain": [
       "<Figure size 432x288 with 1 Axes>"
      ]
     },
     "metadata": {
      "needs_background": "light"
     },
     "output_type": "display_data"
    }
   ],
   "source": [
    "import pandas as pd\n",
    "import numpy as np\n",
    "\n",
    "def jacobi(A, b, x0, tol, n_iterations=300):\n",
    "    \"\"\"\n",
    "    Performs Jacobi iterations to solve the line system of\n",
    "    equations, Ax=b, starting from an initial guess, ``x0``.\n",
    "    \n",
    "    Returns:\n",
    "    x, the estimated solution\n",
    "    \"\"\"\n",
    "    \n",
    "    n = A.shape[0]\n",
    "    x = x0.copy()\n",
    "    x_prev = x0.copy()\n",
    "    counter = 0\n",
    "    x_diff = tol+1\n",
    "    \n",
    "    while (x_diff > tol) and (counter < n_iterations): #iteration level\n",
    "        for i in range(0, n): #element wise level for x\n",
    "            s = 0\n",
    "            for j in range(0,n): #summation for i !=j\n",
    "                if i != j:\n",
    "                    s += A[i,j] * x_prev[j] \n",
    "            \n",
    "            x[i] = (b[i] - s) / A[i,i]\n",
    "        #update values\n",
    "        counter += 1\n",
    "        x_diff = (np.sum((x-x_prev)**2))**0.5 \n",
    "        x_prev = x.copy() #use new x for next iteration\n",
    "        \n",
    "    \n",
    "    print(\"Number of Iterations: \", counter)\n",
    "    print(\"Norm of Difference: \", x_diff)\n",
    "    return x\n",
    "\n",
    "def cubicSpline(x, y, tol = 1e-100):\n",
    "    \"\"\"\n",
    "    Interpolate using natural cubic splines.\n",
    "    \n",
    "    Generates a strictly diagonal dominant matrix then applies Jacobi's method.\n",
    "    \n",
    "    Returns coefficients:\n",
    "    b, coefficient of x of degree 1\n",
    "    c, coefficient of x of degree 2\n",
    "    d, coefficient of x of degree 3\n",
    "    \"\"\" \n",
    "    x = np.array(x)\n",
    "    y = np.array(y)\n",
    "    ### check if sorted\n",
    "    if np.any(np.diff(x) < 0):\n",
    "        idx = np.argsort(x)\n",
    "        x = x[idx]\n",
    "        y = y[idx]\n",
    "\n",
    "    size = len(x)\n",
    "    delta_x = np.diff(x)\n",
    "    delta_y = np.diff(y)\n",
    "    \n",
    "    ### Get matrix A\n",
    "    A = np.zeros(shape = (size,size))\n",
    "    b = np.zeros(shape=(size,1))\n",
    "    A[0,0] = 1\n",
    "    A[-1,-1] = 1\n",
    "    \n",
    "    for i in range(1,size-1):\n",
    "        A[i, i-1] = delta_x[i-1]\n",
    "        A[i, i+1] = delta_x[i]\n",
    "        A[i,i] = (3/2*delta_x[i-1]+2*delta_x[i]) if i == 1 else 2*(delta_x[i-1]+delta_x[i])\n",
    "    ### Get matrix b\n",
    "        b[i,0] = 3*(delta_y[i]/delta_x[i] - delta_y[i-1]/delta_x[i-1])     \n",
    "    A[-2, -2] = (3/2*A[-2, -3]+2*A[-3, -2])\n",
    "    \n",
    "    ### Solves for c in Ac = b\n",
    "    print('Jacobi Method Output:')\n",
    "    c = jacobi(A, b, np.zeros(len(A)), tol = tol, n_iterations=1000)\n",
    "    \n",
    "    ### Solves for d and b\n",
    "    d = np.zeros(shape = (size-1,1))\n",
    "    b = np.zeros(shape = (size-1,1))\n",
    "    for i in range(0,len(d)):\n",
    "        d[i] = (c[i+1] - c[i]) / (3*delta_x[i])\n",
    "        b[i] = (delta_y[i]/delta_x[i]) - (delta_x[i]/3)*(2*c[i] + c[i+1])    \n",
    "    \n",
    "    return b.squeeze(), c.squeeze(), d.squeeze()\n",
    "\n",
    "\n",
    "# Approximation by a polynomial:\n",
    "t_pts = 1.0e-4 * np.array([-1, -0.25, -0.05, 0, 0.05, 0.25, 1])\n",
    "W_vls = 1.0e-4 * np.array([0, 0.2, 1.75, 0, -0.75, -0.25, 0])\n",
    "bs, cs, ds = cubicSpline(t_pts, W_vls)\n",
    "\n",
    "t = np.linspace(-1.0e-4, 1.0e-4, 100)\n",
    "W_a = np.zeros(t.shape)\n",
    "\n",
    "tstart, Wstart = t_pts[0], W_vls[0]\n",
    "for i, (b, c, d) in enumerate(zip(bs, cs, ds)):\n",
    "    tend = t_pts[i+1]\n",
    "    idx = (tstart <= t) & (t < tend)\n",
    "    trange = t[idx]\n",
    "    tdiff = trange - tstart\n",
    "    W_a[idx] = Wstart + b * tdiff + c * tdiff**2 + d * tdiff**3\n",
    "    \n",
    "    tstart = tend\n",
    "    Wstart = W_vls[i+1]\n",
    "\n",
    "plt.plot(t,W_a,'k',label=\"Learning window\")"
   ]
  },
  {
   "cell_type": "markdown",
   "metadata": {},
   "source": [
    "# Filtering an adaptive coupling matrix?\n"
   ]
  },
  {
   "cell_type": "code",
   "execution_count": 73,
   "metadata": {},
   "outputs": [
    {
     "name": "stdout",
     "output_type": "stream",
     "text": [
      "[ True  True  True  True  True  True  True  True  True  True  True  True\n",
      "  True  True  True  True  True  True  True  True  True  True  True  True\n",
      "  True False False False False False False False False False False False\n",
      " False False False False False False False False False False False False\n",
      " False False]\n"
     ]
    },
    {
     "ename": "AxisError",
     "evalue": "axis 1 is out of bounds for array of dimension 0",
     "output_type": "error",
     "traceback": [
      "\u001b[0;31m---------------------------------------------------------------------------\u001b[0m",
      "\u001b[0;31mAxisError\u001b[0m                                 Traceback (most recent call last)",
      "\u001b[0;32m<ipython-input-73-169f48a95066>\u001b[0m in \u001b[0;36m<module>\u001b[0;34m\u001b[0m\n\u001b[1;32m      2\u001b[0m \u001b[0mprint\u001b[0m\u001b[0;34m(\u001b[0m\u001b[0mx\u001b[0m\u001b[0;34m<=\u001b[0m\u001b[0;36m0\u001b[0m\u001b[0;34m)\u001b[0m\u001b[0;34m\u001b[0m\u001b[0;34m\u001b[0m\u001b[0m\n\u001b[1;32m      3\u001b[0m \u001b[0my\u001b[0m \u001b[0;34m=\u001b[0m \u001b[0mnp\u001b[0m\u001b[0;34m.\u001b[0m\u001b[0mzeros\u001b[0m\u001b[0;34m(\u001b[0m\u001b[0mx\u001b[0m\u001b[0;34m.\u001b[0m\u001b[0mshape\u001b[0m\u001b[0;34m)\u001b[0m\u001b[0;34m\u001b[0m\u001b[0;34m\u001b[0m\u001b[0m\n\u001b[0;32m----> 4\u001b[0;31m \u001b[0my\u001b[0m\u001b[0;34m[\u001b[0m\u001b[0mx\u001b[0m \u001b[0;34m<=\u001b[0m \u001b[0;36m0\u001b[0m\u001b[0;34m]\u001b[0m \u001b[0;34m=\u001b[0m \u001b[0mnp\u001b[0m\u001b[0;34m.\u001b[0m\u001b[0mmin\u001b[0m\u001b[0;34m(\u001b[0m\u001b[0;36m0\u001b[0m\u001b[0;34m,\u001b[0m  \u001b[0;34m+\u001b[0m \u001b[0;36m1\u001b[0m\u001b[0;34m)\u001b[0m\u001b[0;34m\u001b[0m\u001b[0;34m\u001b[0m\u001b[0m\n\u001b[0m\u001b[1;32m      5\u001b[0m \u001b[0my\u001b[0m\u001b[0;34m[\u001b[0m\u001b[0mx\u001b[0m \u001b[0;34m>\u001b[0m \u001b[0;36m0\u001b[0m\u001b[0;34m]\u001b[0m \u001b[0;34m=\u001b[0m \u001b[0mnp\u001b[0m\u001b[0;34m.\u001b[0m\u001b[0mmin\u001b[0m\u001b[0;34m(\u001b[0m\u001b[0;36m0\u001b[0m\u001b[0;34m,\u001b[0m \u001b[0;34m-\u001b[0m \u001b[0;36m1\u001b[0m\u001b[0;34m)\u001b[0m\u001b[0;34m\u001b[0m\u001b[0;34m\u001b[0m\u001b[0m\n\u001b[1;32m      6\u001b[0m \u001b[0;34m\u001b[0m\u001b[0m\n",
      "\u001b[0;32m/anaconda3/lib/python3.7/site-packages/numpy/core/fromnumeric.py\u001b[0m in \u001b[0;36mamin\u001b[0;34m(a, axis, out, keepdims, initial)\u001b[0m\n\u001b[1;32m   2616\u001b[0m     \"\"\"\n\u001b[1;32m   2617\u001b[0m     return _wrapreduction(a, np.minimum, 'min', axis, None, out, keepdims=keepdims,\n\u001b[0;32m-> 2618\u001b[0;31m                           initial=initial)\n\u001b[0m\u001b[1;32m   2619\u001b[0m \u001b[0;34m\u001b[0m\u001b[0m\n\u001b[1;32m   2620\u001b[0m \u001b[0;34m\u001b[0m\u001b[0m\n",
      "\u001b[0;32m/anaconda3/lib/python3.7/site-packages/numpy/core/fromnumeric.py\u001b[0m in \u001b[0;36m_wrapreduction\u001b[0;34m(obj, ufunc, method, axis, dtype, out, **kwargs)\u001b[0m\n\u001b[1;32m     84\u001b[0m                 \u001b[0;32mreturn\u001b[0m \u001b[0mreduction\u001b[0m\u001b[0;34m(\u001b[0m\u001b[0maxis\u001b[0m\u001b[0;34m=\u001b[0m\u001b[0maxis\u001b[0m\u001b[0;34m,\u001b[0m \u001b[0mout\u001b[0m\u001b[0;34m=\u001b[0m\u001b[0mout\u001b[0m\u001b[0;34m,\u001b[0m \u001b[0;34m**\u001b[0m\u001b[0mpasskwargs\u001b[0m\u001b[0;34m)\u001b[0m\u001b[0;34m\u001b[0m\u001b[0;34m\u001b[0m\u001b[0m\n\u001b[1;32m     85\u001b[0m \u001b[0;34m\u001b[0m\u001b[0m\n\u001b[0;32m---> 86\u001b[0;31m     \u001b[0;32mreturn\u001b[0m \u001b[0mufunc\u001b[0m\u001b[0;34m.\u001b[0m\u001b[0mreduce\u001b[0m\u001b[0;34m(\u001b[0m\u001b[0mobj\u001b[0m\u001b[0;34m,\u001b[0m \u001b[0maxis\u001b[0m\u001b[0;34m,\u001b[0m \u001b[0mdtype\u001b[0m\u001b[0;34m,\u001b[0m \u001b[0mout\u001b[0m\u001b[0;34m,\u001b[0m \u001b[0;34m**\u001b[0m\u001b[0mpasskwargs\u001b[0m\u001b[0;34m)\u001b[0m\u001b[0;34m\u001b[0m\u001b[0;34m\u001b[0m\u001b[0m\n\u001b[0m\u001b[1;32m     87\u001b[0m \u001b[0;34m\u001b[0m\u001b[0m\n\u001b[1;32m     88\u001b[0m \u001b[0;34m\u001b[0m\u001b[0m\n",
      "\u001b[0;31mAxisError\u001b[0m: axis 1 is out of bounds for array of dimension 0"
     ]
    }
   ],
   "source": [
    "x = np.linspace(-2,2)\n",
    "print(x<=0)\n",
    "y = np.zeros(x.shape)\n",
    "y[x <= 0] = np.min(0, x[x <= 0]**3 + 1) \n",
    "y[x > 0] = np.min(0, x[x > 0]**3 - 1) \n",
    "\n",
    "plt.plot(x,y)\n",
    "plt.grid(True)"
   ]
  }
 ],
 "metadata": {
  "kernelspec": {
   "display_name": "Python 3",
   "language": "python",
   "name": "python3"
  },
  "language_info": {
   "codemirror_mode": {
    "name": "ipython",
    "version": 3
   },
   "file_extension": ".py",
   "mimetype": "text/x-python",
   "name": "python",
   "nbconvert_exporter": "python",
   "pygments_lexer": "ipython3",
   "version": "3.7.3"
  }
 },
 "nbformat": 4,
 "nbformat_minor": 2
}

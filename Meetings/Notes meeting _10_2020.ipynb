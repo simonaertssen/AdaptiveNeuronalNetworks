{
 "cells": [
  {
   "cell_type": "code",
   "execution_count": 1,
   "metadata": {},
   "outputs": [],
   "source": [
    "import matplotlib.pyplot as plt\n",
    "import numpy as np"
   ]
  },
  {
   "cell_type": "markdown",
   "metadata": {},
   "source": [
    "# Section: errata from in September"
   ]
  },
  {
   "cell_type": "markdown",
   "metadata": {},
   "source": [
    "## Measuring the fI curve\n",
    "Much better now:\n",
    "![Testing the model equilibria](../Figures/ThetaNeuronResponseToCurrentPeriod.png)\n"
   ]
  },
  {
   "cell_type": "markdown",
   "metadata": {},
   "source": [
    "## Perturbations: recap\n",
    "Try a perturbation of the Duffing equation:\n",
    "\n",
    "\\begin{align*}\n",
    "\\ddot{x}+x+\\epsilon x^{3}=0, \\quad 0<\\varepsilon \\ll 1 \\hspace{10mm} x(0) = a, \\dot{x}(0) = 0\n",
    "\\end{align*}\n",
    "\n",
    "Say that $x(t)=x_{0}(t)+\\varepsilon x_{1}(t)+\\varepsilon^{2} x_{2}(t) + \\mathcal{O}(\\varepsilon^3)$:\n",
    "\\begin{align*}\n",
    "0 &= \\ddot{x_0} + \\varepsilon\\ddot{x_1} + \\varepsilon^2 \\ddot{x_2} + x_0 + \\varepsilon x_{1} + \\varepsilon^{2} x_2 + \\epsilon (x_{0} + \\varepsilon x_{1})^{3} + \\mathcal{O}(\\varepsilon^3)\\\\\n",
    "&= \\ddot{x_0} + \\varepsilon\\ddot{x_1} + \\varepsilon^2 \\ddot{x_2} + x_0 + \\varepsilon x_{1} + \\varepsilon^2 x_2 + \\varepsilon (x_0^3 + \\varepsilon 3 x_0^3 x_1^3 ) + \\mathcal{O}(\\varepsilon^3) \\\\\n",
    "&= \\ddot{x_0} + x_0 + \\varepsilon \\cdot \\left(\\ddot{x_1} + x_{1} + x_0^3\\right) + \\varepsilon^2 \\cdot \\left(\\ddot{x_2} + x_2 + 3 x_0^3 x_1^3 \\right) + \\mathcal{O}(\\varepsilon^3)\n",
    "\\end{align*}\n",
    "\n",
    "This yields for the $\\mathcal{O}(1)$:\n",
    "\\begin{align*}\n",
    "0 &= \\ddot{x_0} + x_0  \\hspace{10mm} x_o = e^{ax} \\\\\n",
    "&= a^2 e^{ax} + e^{ax} = e^{ax} \\cdot \\left(a^2 + 1\\right) \\rightarrow a = \\pm i\n",
    "\\end{align*}\n",
    "\n",
    "For $a_1 \\neq a_2$ with $a_1 = \\alpha + i \\beta$ and $a_2 = \\alpha - i \\beta$ the solution is:\n",
    "\\begin{align*}\n",
    "x_0(t) &= e^{\\alpha x} \\left( c_1 \\cos \\left( \\beta t \\right) + c_2 \\sin \\left( \\beta t \\right) \\right) =  c_1 \\cos t + c_2 \\sin t \\\\\n",
    "x_0(0) &= a = c_1 \\\\\n",
    "x_0(t) &= a \\cos t\n",
    "\\end{align*}\n",
    "\n",
    "\n",
    "For the $\\mathcal{O}(\\varepsilon)$:\n",
    "\\begin{align*}\n",
    "\\ddot{x_1} + x_1 &= -x_0^3 = -a^3 \\cos^3 t = -\\frac{a^{3}}{4}(3 \\cos t+\\cos 3 t)\n",
    "\\end{align*}\n",
    "\n",
    "The homogeneous solution is again $x_1(t) = a \\cos t$, and we can split the particular solution in two parts. Suggest $x_{1,p_1} = A \\cos t + B \\sin t$:\n",
    "\\begin{align*}\n",
    "\\frac{d}{dt}\\left( -A \\sin t + B \\cos t \\right) + A \\cos t + B \\sin t &= -A \\cos t - B \\sin t + A \\cos t + B \\sin t = -\\frac{3a^{3}}{4} \\cos t \n",
    "\\end{align*}\n",
    "\n",
    "That does not work. Try $x_{1,p_1} = A t \\cos t + B t \\sin t$:\n",
    "\\begin{align*}\n",
    "\\frac{d}{dt}\\left( A \\cos t - A t \\sin t + B \\sin t + B t \\cos t \\right) + A t \\cos t + B t \\sin t &= -A \\sin t - A \\sin t - A t \\cos t + B \\cos t + B \\cos t - B t \\sin t = -\\frac{3a^{3}}{4} \\cos t \\\\\n",
    "&\n",
    "\\begin{cases}\n",
    "\\mathcal{O}(\\sin t): -A - A = 0 \\\\\n",
    "\\mathcal{O}(t \\cos t): A = 0 \\\\\n",
    "\\mathcal{O}(\\cos t): 2B = -\\frac{3a^{3}}{4} \\leftrightarrow B = -\\frac{3a^{3}}{8}\\\\\n",
    "\\end{cases}\n",
    "\\end{align*}\n",
    "\n",
    "Then the other particular solution: try $x_{1,p_2} = A \\cos (3 t) + B \\sin (3 t)$:\n",
    "\\begin{align*}\n",
    "\\frac{d}{dt}\\left( - 3 A \\sin t + 3 B \\cos t \\right) + A \\cos (3 t) + B \\sin (3 t) &= -9A \\cos (3 t) -9 B \\sin t(3 t) + A \\cos (3 t) + B \\sin (3 t) = -\\frac{a^{3}}{4} \\cos (3 t) \\\\\n",
    "&\n",
    "\\begin{cases}\n",
    "\\mathcal{O}(\\cos t): -9A + A = -8 A = -\\frac{a^{3}}{4} \\leftrightarrow A = \\frac{a^{3}}{32}\\\\\n",
    "\\mathcal{O}(\\sin t): B = 0\n",
    "\\end{cases}\n",
    "\\end{align*}\n",
    "\n",
    "So now:\n",
    "\\begin{align*}\n",
    "x(t) = a \\cos t + \\varepsilon \\cdot \\left( -\\frac{3a^{3}}{8}t \\sin t + \\frac{a^{3}}{32} \\cos (3 t) \\right) + \\varepsilon^{2} x_{2}(t) + \\mathcal{O}(\\varepsilon^3)\n",
    "\\end{align*}\n",
    "\n",
    "And so on for the terms in $\\varepsilon^2$."
   ]
  },
  {
   "cell_type": "markdown",
   "metadata": {},
   "source": [
    "## Solutions for I(t) on a slow timeframe\n",
    "\n",
    "For the QIF neuron we were in trouble when using $\\iota = V$ as that would change the model. Inseperable ode's like\n",
    "\n",
    "\\begin{align*}\n",
    "\\frac{dV}{dt} &= V^2 + \\iota(t) \\\\\n",
    "\\end{align*}\n",
    "\n",
    "cannot be solved exactly due to the power on $V^2$. However, we can perform pertubations!\n",
    "\n",
    "### Perturbation on $\\iota(t) = \\iota_0 + \\varepsilon t$\n",
    "\\begin{align*}\n",
    "\\frac{dV}{dt} &= V^2 + \\iota_0 + \\varepsilon t \\hspace{10mm} V(t=0) = –\\infty \\\\\n",
    "\\end{align*}\n",
    "\n",
    "Take $V(t, \\varepsilon) = V_0(t) + \\varepsilon V_1(t) + \\varepsilon^2 V_2(t) + \\mathcal{O}(\\varepsilon^3)$:\n",
    "\n",
    "\\begin{align*}\n",
    "\\frac{dV}{dt} &= V^2 + \\iota_0 + \\varepsilon t\\\\\n",
    "\\dot{V_0(t)} + \\varepsilon \\dot{V_1(t)} + \\varepsilon^2 \\dot{V_2(t)} &= \\left( V_0(t) \\right)^2 + \\left( \\varepsilon V_1(t) \\right)^2  + 2 \\varepsilon V_0(t) V_1(t) + 2 \\varepsilon^2 V_0(t) V_2(t) + \\mathcal{O}(\\varepsilon^3) + \\iota_0 + \\varepsilon t \\\\\n",
    "0 &= \\left( -\\dot{V_0(t)} + \\left( V_0(t) \\right)^2 + \\iota_0 \\right) + \\varepsilon \\cdot \\left( -\\dot{V_1(t)} +  2 V_0(t) V_1(t) + t \\right) + \\varepsilon^2 \\cdot \\left( -\\dot{V_2(t)} + \\left( V_2(t) \\right)^2 + 2 V_0(t) V_2(t) \\right)\n",
    "\\end{align*}\n",
    "\n",
    "For $\\mathcal{O}(1)$:\n",
    "\n",
    "\\begin{align*}\n",
    "\\dot{V_0(t)} &= \\left( V_0(t) \\right)^2 + \\iota_0 \\\\\n",
    "\\int_{V_0(0)}^{V_0(t)} \\frac{dv}{v^2 + \\iota_0} \n",
    "&= \\int_{V_0(0)}^{V_0(t)} \\frac{1}{\\iota_0 \\left(\\left(\\frac{v}{\\sqrt{\\iota_0}}\\right)^2 + 1 \\right)} dv\n",
    "\\underset{x = \\frac{v}{\\sqrt{\\iota_0}} \\: \\:dx = \\frac{dv}{\\sqrt{\\iota_0}}}{=} \n",
    "\\frac{1}{\\sqrt{\\iota_0}}\\int_{\\frac{V_0(0)}{\\sqrt{\\iota_0}}}^{\\frac{V_0(t)}{\\sqrt{\\iota_0}}} \\frac{1}{x^2 + 1} dx \\\\\n",
    "&= \\frac{1}{\\sqrt{\\iota_0}} \\arctan(x) \\rvert_{\\frac{V_0(0)}{\\sqrt{\\iota_0}}}^{\\frac{V_0(t)}{\\sqrt{\\iota_0}}} \n",
    "= \\frac{1}{\\sqrt{\\iota_0}} \\left( \\arctan \\left( \\frac{V_0(t)}{\\sqrt{\\iota_0}} \\right) - \\arctan \\left( \\frac{V_0(0)}{\\sqrt{\\iota_0}} \\right) \\right) = \\int_0^t d\\tau = t\n",
    "\\end{align*}\n",
    "\n",
    "So \n",
    "\n",
    "\\begin{align*}\n",
    "t &= \\frac{1}{\\sqrt{\\iota_0}} \\left( \\arctan \\left( \\frac{V_0(t)}{\\sqrt{\\iota_0}} \\right) - \\arctan \\left( \\frac{V_0(0)}{\\sqrt{\\iota_0}} \\right) \\right) \\\\\n",
    "V_0(t) &= \\sqrt{\\iota_0} \\tan \\left( t\\sqrt{\\iota_0} + \\arctan \\left( \\frac{V_0(0)}{\\sqrt{\\iota_0}} \\right) \\right) \\longrightarrow V_0(0) = -\\infty \\\\\n",
    "V_0(t) &= \\lim_{V_0(0) \\rightarrow -\\infty} \\sqrt{\\iota_0} \\tan \\left( t\\sqrt{\\iota_0} + \\arctan \\left( \\frac{V_0(0)}{\\sqrt{\\iota_0}} \\right) \\right) = \\sqrt{\\iota_0} \\tan \\left( t\\sqrt{\\iota_0} - \\frac{\\pi}{2} \\right)\\\\\n",
    "\\end{align*}\n",
    "\n",
    "Then\n",
    "\n",
    "\\begin{align*}\n",
    "V_0(t) = - \\sqrt{\\iota_0} \\cot \\left( t\\sqrt{\\iota_0} \\right)\n",
    "\\end{align*}\n"
   ]
  },
  {
   "cell_type": "markdown",
   "metadata": {},
   "source": [
    "Now for $\\mathcal{O}(\\varepsilon)$:\n",
    "\n",
    "\\begin{align*}\n",
    "\\frac{d}{d\\varepsilon}&: \\dot{V_1(t)} + 2 \\varepsilon \\dot{V_2(t)} = 2 V_0(t) V_1(t) + 2 \\varepsilon V_1(t)^2 + t\\\\\n",
    "\\frac{d}{d\\varepsilon}\\rvert_{\\varepsilon = 0}&: \\dot{V_1(t)} = 2 V_0(t) V_1(t) + t \\\\\n",
    "\\end{align*}\n",
    "\n",
    "Change variables: $\\frac{dx}{dt} - 2 V_0(t) x = \\frac{dx}{dt} + p(t) x = t$. Recognise that this is an inseperable differential equation! Take \n",
    "\n",
    "\\begin{align*}\n",
    "\\mu &= \\exp \\left\\{ \\int p(t)dt \\right\\} \\\\\n",
    "\\int p(t)dt &= - 2\\int V_0(t)dt = 2\\sqrt{\\iota_0} \\int \\cot \\left( t\\sqrt{\\iota_0} \\right) dt\n",
    "\\underset{x = t \\sqrt{\\iota_0} \\: \\:dx = \\sqrt{\\iota_0} dt}{=} \n",
    "2\\int \\cot (x) dx \\\\\n",
    "&= 2\\int \\frac{\\cos(x)}{\\sin(x)} dx\n",
    "\\underset{u = \\sin(x) \\: \\:du = \\cos(x) dx}{=} \n",
    "2\\int \\frac{1}{v} dx = 2 \\cdot \\ln \\lvert v \\rvert = 2 \\cdot \\ln \\lvert \\sin \\left(t \\sqrt{\\iota_0} \\right) \\rvert \\\\\n",
    "\\mu &= \\exp \\left\\{ 2 \\cdot \\ln \\lvert \\sin \\left(t \\sqrt{\\iota_0} \\right) \\rvert \\right\\} = \\lvert \\sin \\left(t \\sqrt{\\iota_0} \\right) \\rvert^2 = \\left( \\sqrt{\\sin^2 \\left(t \\sqrt{\\iota_0} \\right) } \\right)^2 = \\sin^2 \\left(t \\sqrt{\\iota_0} \\right)\n",
    "\\end{align*}\n",
    "\n",
    "Now we can say that $\\frac{d\\mu}{dt} = \\mu p(t)$ and that $x = \\frac{1}{\\mu} \\int \\mu p(t) dt$ (see theory on inseperable equations [here](https://en.wikipedia.org/wiki/Inseparable_differential_equation)):\n",
    "\n",
    "\\begin{align*}\n",
    "\\int \\mu p(t) dt &= 2\\sqrt{\\iota_0} \\int \\sin^2 \\left(t \\sqrt{\\iota_0} \\right) \\cdot \\frac{ \\cos \\left( t\\sqrt{\\iota_0} \\right)}{\\sin \\left( t\\sqrt{\\iota_0} \\right)}dt \\\\\n",
    "&= 2\\sqrt{\\iota_0} \\int \\sin \\left(t \\sqrt{\\iota_0} \\right) \\cdot \\cos \\left( t\\sqrt{\\iota_0} \\right) dt\n",
    "\\underset{x = t \\sqrt{\\iota_0} \\: \\:dx = \\sqrt{\\iota_0} dt}{=} \n",
    "2 \\int \\sin (x) \\cdot \\cos (x) dx\n",
    "\\underset{u = \\sin(x) \\: \\:du = \\cos(x) dx}{=} \n",
    "2 \\int u du = 2 \\frac{u}{2} = \\sin^2 \\left(t \\sqrt{\\iota_0} \\right) + c_1\n",
    "\\end{align*}\n",
    "\n",
    "That leaves us with:\n",
    "\n",
    "\\begin{align*}\n",
    "x = V_1(t) &= \\frac{\\sin^2 \\left(t \\sqrt{\\iota_0} \\right) + c_1}{\\sin^2 \\left(t \\sqrt{\\iota_0} \\right)}\n",
    "= 1 + \\frac{c_1}{\\sin^2 \\left(t \\sqrt{\\iota_0} \\right)} \\\\\n",
    "c_1 &= \\left( V_1(t) - 1 \\right) \\cdot \\sin^2 \\left(t \\sqrt{\\iota_0} \\right)\n",
    "\\end{align*}\n",
    "\n",
    "Evaluate at $t = 0$ so that $V_1(0) = -\\infty$?\n",
    "\n",
    "\\begin{align*}\n",
    "c_1 &= \\lim_{t \\rightarrow 0} \\left( V_1(t) - 1 \\right) \\cdot \\sin^2 \\left(t \\sqrt{\\iota_0} \\right)\n",
    "= \\left( -\\infty - 1 \\right) \\cdot \\sin^2 (0) \n",
    "=\\left( -\\infty - 1 \\right) \\cdot 0 = 0\n",
    "\\end{align*}\n",
    "\n",
    "So $V_1(t) = 1$? Doesn't seem to make sense, but this does not seem to depend on $V_1(0)$, only on $t=0$.\n"
   ]
  },
  {
   "cell_type": "markdown",
   "metadata": {},
   "source": [
    "Then let's continue with $\\mathcal{O}(\\varepsilon^2)$:\n",
    "\\begin{align*}\n",
    "\\dot{V_2(t)} &= V_2(t)^2 + 2 \\cdot V_0(t) \\cdot V_2(t) \\\\\n",
    "\\dot{V_2(t)} \\cdot \\frac{1}{V_2(t)} &= V_2(t) + 2 \\cdot V_0(t)\n",
    "\\end{align*}\n",
    "\n",
    "This is again an inseperable equation, but there does not seem to exist an expression to solve this differential equation."
   ]
  },
  {
   "cell_type": "markdown",
   "metadata": {},
   "source": [
    "# Section: the learning window as a polynomial\n",
    "We will investigate how to reduce the complexity of the learning window function. The properties of the learning window $W(s)$ are:\n",
    "* $W$ is defined on an interval $[-\\tau, \\tau]$\n",
    "* \n"
   ]
  },
  {
   "cell_type": "code",
   "execution_count": 8,
   "metadata": {},
   "outputs": [
    {
     "data": {
      "image/png": "[encoded data removed]",
      "text/plain": [
       "<Figure size 720x360 with 1 Axes>"
      ]
     },
     "metadata": {
      "needs_background": "light"
     },
     "output_type": "display_data"
    }
   ],
   "source": [
    "# Kempter 1999 learning window:\n",
    "t_syn = 5.0e-6\n",
    "t_pos = 1.0e-6\n",
    "t_neg = 20.0e-6\n",
    "A_p = 1\n",
    "A_n = -1\n",
    "\n",
    "def Window(t, t_syn, t_pos, t_neg, A_p, A_n):\n",
    "    learning_rate = 10.0e-5\n",
    "    eps = 1.0e-9\n",
    "    \n",
    "    W = np.zeros(t.shape)\n",
    "    t_neg_idx = t <= 0\n",
    "    t_pos_idx = t > 0\n",
    "    W[t_neg_idx] = np.exp(t[t_neg_idx]/t_syn + eps)*(A_p*(1-t[t_neg_idx]/t_pos) + A_n*(1-t[t_neg_idx]/t_neg))\n",
    "    W[t_pos_idx] = A_p*np.exp(-t[t_pos_idx]/t_pos + eps) + A_n*np.exp(-t[t_pos_idx]/t_neg + eps)\n",
    "    return learning_rate * W\n",
    "\n",
    "def Polynomial(t, t_pts, W_vls):\n",
    "    pol = np.polyfit(t_pts, W_vls, t_pts.size-3)\n",
    "    return np.polyval(pol,t) \n",
    "    \n",
    "t = np.linspace(-1.0e-4, 1.0e-4, 500)\n",
    "\n",
    "plt.figure(figsize=(10,5))\n",
    "plt.grid(True)\n",
    "plt.plot(t,W_k,'k',label=\"Learning window\")\n",
    "\n",
    "plt.xticks(rotation=45, ha=\"right\")\n",
    "plt.xlabel(r\"$t$\")\n",
    "plt.ylabel(r\"$W$\")\n",
    "\n",
    "plt.legend();\n"
   ]
  },
  {
   "cell_type": "code",
   "execution_count": 4,
   "metadata": {},
   "outputs": [
    {
     "name": "stdout",
     "output_type": "stream",
     "text": [
      "-5.558565196844804e-10\n"
     ]
    }
   ],
   "source": [
    "# Compute the area with a trapezoidal rule:\n",
    "from np import trapz\n",
    "integral = trapz(t,W_k)\n",
    "print(integral)"
   ]
  },
  {
   "cell_type": "markdown",
   "metadata": {},
   "source": [
    "# Section: making small-world networks from a fixed degree network\n",
    "Real networks have since long displayed clustering and short mean paths. This is not necessarily reflected in the fixed-degree networks, nor the random networks. Let us try and make a small-world graph from an ordered network like a fixed-degree graph.\n",
    "\n",
    "Start from $k^{in}_i \\equiv k^{out}_j \\equiv \\langle k \\rangle$ and $P(k| \\langle k \\rangle) = \\delta_{k, \\langle k \\rangle}$. Change every link with probability $p$ so that only the in-degree changes. What we are after is similar behaviour as Strogatz-Watts *small world* networks. The idea is the following:\n",
    "![Desire](https://www.researchgate.net/profile/Serhat_Tan/publication/283854902/figure/fig2/AS:296097986695169@1447606669288/Watts-Strogatz-1998-network-structure-with-varying-p-values-The-right-side-plot.png)\n",
    "\n",
    "Our results: not so promising.\n",
    "\n",
    "<img src=\"../Figures/nosmallworldfromdirac.png\" alt=\"Drawing\" style=\"width: 700px;\"/>\n",
    "\n",
    "Drop small world networks: it is a *property*."
   ]
  },
  {
   "cell_type": "markdown",
   "metadata": {},
   "source": [
    "# Section: making the adjacency matrices for full-scale simulations\n",
    "Problem: most descriptions just use the degree distribution $P(k)$. We need to make $A_{ij}$ from $P(k)$. This is a *cover problem*.\n",
    "\n",
    "\\begin{align}\n",
    "\\text{Fixed degree networks:}& \\hspace{5mm} P(k| \\langle k \\rangle) = \\delta_{k, \\langle k \\rangle} \\\\\n",
    "\\text{Random networks:}& \\hspace{5mm} P(k| \\langle k \\rangle) = \\mathcal{B}(N-1, \\langle k \\rangle) \\sim \\mathcal{P}(\\langle k \\rangle) \\hspace{5mm} \\text{(Poisson limit theorem)}\\\\\n",
    "\\text{Scale-free networks:}& \\hspace{5mm} P(k|\\gamma) = A k ^{\\gamma} \\forall k \\in [k_{\\rm min}, k_{\\rm max}]\n",
    "\\end{align}\n",
    "\n",
    "\n",
    "We have the in- and out-degree vectors of the network defined in two ways:\n",
    "\\begin{align}\n",
    "k^{in}_i, k^{out}_j \\sim P(k) \\longleftrightarrow  k^{in}_i = \\sum_{j=1}^N A_{ij} \\text{ and } k^{out}_j = \\sum_{i=1}^N A_{ij}\n",
    "\\end{align}\n",
    "\n",
    "Given constraints:\n",
    "* $A_{ij}$ is directed, though $A_{ji} \\neq A_{ji}$ necessarily.\n",
    "* No selflinks are allowed: $A_{ii} = \\bar{0}$\n",
    "* The number of links is constant: $\\sum_{i=1}^N k^{in}_i \\equiv \\sum_{j=1}^N k^{out}_j \\equiv n(A_{ij})$. So we can say $k^{in}_i$ and $k^{out}_j$ are permutations of each other.\n"
   ]
  },
  {
   "cell_type": "code",
   "execution_count": null,
   "metadata": {},
   "outputs": [],
   "source": [
    "# Method: pseudocode\n",
    "nonzeros = sum(k_in);\n",
    "xidx = zeros(nonzeros, 1);\n",
    "yidx = zeros(nonzeros, 1);\n",
    "\n",
    "choosefrom = 2:N;\n",
    "prob_leftout = k_out(1);\n",
    "probs = k_out(choosefrom);\n",
    "\n",
    "start = 1;\n",
    "for i in N:\n",
    "    # Get link number and sample from k_out\n",
    "    numlinks = k_in(i);\n",
    "    chosen = datasample(choosefrom, numlinks, replace=false, weights=probs);\n",
    "    \n",
    "    xidx(start:(start+(num-1))) = i;\n",
    "    yidx(start:(start+(num-1))) = chosen;\n",
    "    \n",
    "    [~, chosenidx] = ismember(chosen, choosefrom);\n",
    "    uniqueidx = unique(chosenidx);\n",
    "    probs(uniqueidx) = probs(uniqueidx) - 1;    \n",
    "    \n",
    "    if i != N:\n",
    "        choosefrom(i) = i;\n",
    "        \n",
    "        tmp = probs(i);\n",
    "        probs(i) = prob_leftout;\n",
    "        prob_leftout = tmp;\n",
    "    \n",
    "    start = start + num; "
   ]
  },
  {
   "cell_type": "markdown",
   "metadata": {},
   "source": [
    "<img src=\"../Figures/A_fixeddegree.png\" alt=\"Drawing\" style=\"width: 500px;\"/>\n",
    "<img src=\"../Figures/A_random.png\" alt=\"Drawing\" style=\"width: 500px;\"/>\n",
    "<img src=\"../Figures/A_scalefree.png\" alt=\"Drawing\" style=\"width: 500px;\"/>\n"
   ]
  },
  {
   "cell_type": "markdown",
   "metadata": {},
   "source": [
    "Some graph properties of the adjacency matrices:\n",
    "\n",
    "Fixed degree:\n",
    "<img src=\"../Figures/FixedDegreeNetworkProperties.png\" alt=\"Drawing\" style=\"width: 500px;\"/>\n",
    "\n",
    "Random:\n",
    "<img src=\"../Figures/RandomNetworkProperties.png\" alt=\"Drawing\" style=\"width: 500px;\"/>\n",
    "\n",
    "Scale-free:\n",
    "<img src=\"../Figures/ScaleFreeNetworkProperties.png\" alt=\"Drawing\" style=\"width: 500px;\"/>\n"
   ]
  }
 ],
 "metadata": {
  "kernelspec": {
   "display_name": "Python 3",
   "language": "python",
   "name": "python3"
  },
  "language_info": {
   "codemirror_mode": {
    "name": "ipython",
    "version": 3
   },
   "file_extension": ".py",
   "mimetype": "text/x-python",
   "name": "python",
   "nbconvert_exporter": "python",
   "pygments_lexer": "ipython3",
   "version": "3.7.3"
  }
 },
 "nbformat": 4,
 "nbformat_minor": 2
}
